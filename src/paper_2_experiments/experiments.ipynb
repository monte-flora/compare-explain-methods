{
 "cells": [
  {
   "cell_type": "markdown",
   "id": "cb767cbc",
   "metadata": {},
   "source": [
    "## Experiment Notebook \n",
    "\n",
    "\n"
   ]
  },
  {
   "cell_type": "code",
   "execution_count": null,
   "id": "0dc5c836",
   "metadata": {},
   "outputs": [],
   "source": [
    "from sklearnex import patch_sklearn\n",
    "patch_sklearn()\n",
    "\n",
    "import sys, os\n",
    "from os.path import join, dirname\n",
    "sys.path.insert(0, '/home/monte.flora/python_packages/scikit-explain')\n",
    "sys.path.insert(0, '/home/monte.flora/python_packages/master/ml_workflow/')\n",
    "path = dirname(dirname(os.getcwd()))\n",
    "sys.path.insert(0, path)\n",
    "from src.io.io import load_data_and_model\n",
    "\n",
    "from skexplain import ExplainToolkit\n",
    "from skexplain.common.importance_utils import to_skexplain_importance\n",
    "from skexplain.common.multiprocessing_utils import run_parallel, to_iterator\n",
    "from joblib import load\n",
    "import pandas as pd\n",
    "\n",
    "from ml_workflow.ml_methods import norm_aupdc, brier_skill_score, get_bootstrap_score\n",
    "from ml_workflow import CalibratedPipelineHyperOptCV\n",
    "\n",
    "import pickle\n",
    "import numpy as np\n",
    "from sklearn.linear_model import LogisticRegression\n",
    "from sklearn.ensemble import RandomForestClassifier\n",
    "import hyperopt.hp as hp\n",
    "from tqdm import tqdm"
   ]
  },
  {
   "cell_type": "code",
   "execution_count": null,
   "id": "2dc5f20c",
   "metadata": {},
   "outputs": [],
   "source": [
    "BASE_PATH = '/work/mflora/explainability_work/'\n",
    "DATA_BASE_PATH = join(BASE_PATH, 'datasets')\n",
    "MODEL_BASE_PATH = join(BASE_PATH, 'models')"
   ]
  },
  {
   "cell_type": "markdown",
   "id": "b20f1a3b",
   "metadata": {},
   "source": [
    "## Create the Association between feature importance and model performance. "
   ]
  },
  {
   "cell_type": "code",
   "execution_count": null,
   "id": "0f38c0a6",
   "metadata": {},
   "outputs": [],
   "source": [
    "# Load in the respective ranking method results\n",
    "def get_feature_importances(target, opt, method, results=None):\n",
    "    \n",
    "    time='first_hour'\n",
    "    method = 'unnormalized'\n",
    "    explainer = ExplainToolkit()\n",
    "    if target == 'road_surface':\n",
    "        ###opt = 'reduced'\n",
    "        est_name = 'Random Forest'\n",
    "        if opt == 'reduced':\n",
    "            model_name = join(MODEL_BASE_PATH,'RandomForest_manualfeatures_12.joblib')\n",
    "            model = load(model_name)['model'] \n",
    "            data = load(model_name)\n",
    "            model = data['model'] \n",
    "            features = data['features']\n",
    "            gini_values = model.base_estimator.named_steps['model'].feature_importances_\n",
    "        else:\n",
    "            model_name = join(MODEL_BASE_PATH,'JTTI_ProbSR_RandomForest.pkl')\n",
    "            model = load(model_name)\n",
    "            gini_values = model.feature_importances_\n",
    "            features = PREDICTOR_COLUMNS\n",
    "        \n",
    "        pimp_backward_fname = join(DATA_BASE_PATH, f'perm_imp_{opt}_backward.nc')\n",
    "        pimp_forward_fname = join(DATA_BASE_PATH, f'perm_imp_{opt}_forward.nc')\n",
    "        ale_var_fname = join(DATA_BASE_PATH, f'ale_var_rf_{opt}.nc')\n",
    "        shap_fname = join(DATA_BASE_PATH, f'shap_rf_{opt}.nc')\n",
    "\n",
    "        gini_rank = to_skexplain_importance(gini_values,\n",
    "                                       estimator_name='Random Forest', \n",
    "                                       feature_names=features, \n",
    "                                         method = 'gini')\n",
    "        \n",
    "    else:\n",
    "        est_name = 'LogisticRegression'\n",
    "        model_name = join(MODEL_BASE_PATH, \n",
    "                          f'LogisticRegression_first_hour_{target}_under_standard_{opt}.pkl')\n",
    "        data = load(model_name)\n",
    "        model = data['model']\n",
    "        features = data['features']\n",
    "    \n",
    "        pimp_backward_fname = join(DATA_BASE_PATH,\n",
    "                        f'permutation_importance_{target}_{time}_training_norm_aupdc{opt}backward.nc')\n",
    "        pimp_forward_fname = join(DATA_BASE_PATH, \n",
    "                        f'permutation_importance_{target}_{time}_training_norm_aupdc{opt}forward.nc')\n",
    "        ale_var_fname = join(DATA_BASE_PATH,\n",
    "                        f'ale_var_results_all_models_{target}_{time}{opt}.nc')\n",
    "        shap_fname = join(DATA_BASE_PATH,\n",
    "                        f'shap_values_LogisticRegression_{target}_{time}{opt}.pkl')\n",
    "\n",
    "        coefs = model.base_estimator.named_steps['model'].coef_[0]\n",
    "        coef_rank = to_skexplain_importance(coefs,\n",
    "                                       estimator_name='LogisticRegression', \n",
    "                                       feature_names=features, \n",
    "                                       method = 'coefs')\n",
    "    \n",
    "    sage_opt = 'reduced' if ('L1_based' in opt or opt=='reduced') else 'original'\n",
    "    sage_fname = join(DATA_BASE_PATH,f'sage_results_{sage_opt}_{target}.nc')\n",
    "    ale_var = explainer.load(ale_var_fname)\n",
    "    pimp_backward = explainer.load(pimp_backward_fname)\n",
    "    pimp_forward = explainer.load(pimp_forward_fname)\n",
    "    \n",
    "    with open(shap_fname, 'rb') as pkl_file:\n",
    "        data = pickle.load(pkl_file)\n",
    "\n",
    "    X = data['X']\n",
    "    shap_vals = data['shap_values']\n",
    "    shap_rank = to_skexplain_importance(shap_vals, \n",
    "                                     estimator_name=est_name, \n",
    "                                     feature_names=features, \n",
    "                                     method ='shap_sum')\n",
    "\n",
    "    with open(sage_fname, 'rb') as f:\n",
    "        sage_results = pickle.load(f)\n",
    "    \n",
    "    sage_rank = to_skexplain_importance(sage_results,\n",
    "                                     estimator_name=est_name, \n",
    "                                     feature_names=features, \n",
    "                                     method = 'sage')\n",
    "    \n",
    "    data = [pimp_backward, \n",
    "            pimp_backward,\n",
    "            pimp_forward, \n",
    "            pimp_forward,\n",
    "            ale_var,  \n",
    "            shap_rank,\n",
    "            sage_rank,\n",
    "           ]\n",
    "    \n",
    "    methods = ['multipass__backward', \n",
    "           'singlepass__backward', \n",
    "           'multipass__forward', \n",
    "           'singlepass__forward', \n",
    "           'ale_variance', \n",
    "           'shap_sum',\n",
    "           'sage'\n",
    "           ]\n",
    "\n",
    "    if target == 'road_surface': \n",
    "        data.append(gini_rank)\n",
    "        methods.append('gini')\n",
    "    else:\n",
    "        data.append(coef_rank)\n",
    "        methods.append('coefs')\n",
    "    \n",
    "    # Turn the permutation importances into proper importance scores. \n",
    "    # Backward multipass and forward singlepass: 1 + (permute score - original score)\n",
    "    original_score = pimp_backward[f'original_score__{est_name}'].values\n",
    "    scores = 1.0 + (pimp_backward[f'multipass_scores__{est_name}'].values - original_score)\n",
    "    pimp_backward[f'multipass_scores__{est_name}'] = (['n_vars_multipass', 'n_permute'], scores)\n",
    "    \n",
    "    original_score = pimp_forward[f'original_score__{est_name}'].values\n",
    "    scores = 1.0 + (pimp_forward[f'singlepass_scores__{est_name}'].values - original_score)\n",
    "    pimp_forward[f'singlepass_scores__{est_name}'] = (['n_vars_singlepass', 'n_permute'], scores)\n",
    "  \n",
    "    print(pimp_backward[f'multipass_scores__{est_name}'].shape)\n",
    "    print(pimp_forward[f'multipass_scores__{est_name}'].shape)\n",
    "    \n",
    "    # Backward singlepass and forward multipass: original_score - permuted score\n",
    "    original_score = pimp_backward[f'original_score__{est_name}'].values\n",
    "    scores = original_score - pimp_backward[f'singlepass_scores__{est_name}'].values\n",
    "    pimp_backward[f'singlepass_scores__{est_name}'] = (['n_vars_singlepass', 'n_permute'], scores)\n",
    "    \n",
    "    original_score = pimp_forward[f'original_score__{est_name}'].values\n",
    "    scores = original_score - pimp_forward[f'multipass_scores__{est_name}'].values\n",
    "    pimp_forward[f'multipass_scores__{est_name}'] = (['n_vars_multipass', 'n_permute'], scores)\n",
    "    \n",
    "    #data = [shap_rank, pimp_backward]\n",
    "    #methods = ['shap_sum', 'multipass__backward']\n",
    "    \n",
    "    feature_importances = {m : pd.DataFrame(ds[f\"{m.split('__')[0]}_scores__{est_name}\"].values.T, \n",
    "                       columns = ds[f\"{m.split('__')[0]}_rankings__{est_name}\"]) \n",
    "                           for m,ds in zip(methods, data) }\n",
    "    \n",
    "    #for key in feature_importances.keys():\n",
    "    #    print(key)\n",
    "    #    print(f'{feature_importances[key]=}')\n",
    "    \n",
    "    if results is not None:\n",
    "        feature_subsets = results['subsets']\n",
    "        n_iter = len(feature_subsets)\n",
    "        importances = {m : np.zeros((n_iter)) for m in methods}\n",
    "         # Iterate over several thousand feature subsets\n",
    "        for i, inds in enumerate(feature_subsets):\n",
    "            for m in methods:\n",
    "                # Sum up the importances from the different bootstrapping and then average. \n",
    "                # and then normalize by the feature set size. \n",
    "                if method == 'normalized':\n",
    "                    factor =  float((len(features) - len(inds)) / len(features))\n",
    "                elif method == 'normalized_divide':\n",
    "                    factor = 1.0 / len(inds)\n",
    "                else:\n",
    "                    factor = 1.0\n",
    "                \n",
    "                val = np.sum(np.mean(feature_importances[m][inds], axis=0)) * factor\n",
    "                \n",
    "                importances[m][i] = val\n",
    "    else:\n",
    "        importances = None\n",
    "    \n",
    "    return feature_importances, importances "
   ]
  },
  {
   "cell_type": "code",
   "execution_count": null,
   "id": "0ebbe1fa",
   "metadata": {},
   "outputs": [],
   "source": [
    "import traceback\n",
    "\n",
    "targets= ['tornado', 'severe_hail', 'severe_wind', 'road_surface']\n",
    "opts = ['L1_based_feature_selection_with_manual', '']\n",
    "names = [ 'unnormalized']\n",
    "\n",
    "def func(target, opt, name):\n",
    "    if target == 'road_surface':\n",
    "        opt = 'original' if opt == '' else 'reduced'\n",
    "        fname = join(DATA_BASE_PATH,f'RF_road_surface_{opt}__scores.pkl')\n",
    "    else:\n",
    "        fname = join(DATA_BASE_PATH,f'LogisticRegression_first_hour_{target}_{opt}__scores.pkl')\n",
    "    \n",
    "    try:\n",
    "        print('fname: ', fname)\n",
    "        with open(fname, 'rb') as f:\n",
    "            results = pickle.load(f)\n",
    "        \n",
    "        feature_importances, importances = get_feature_importances(target, opt, \n",
    "                                                                   results=results,\n",
    "                                                                   method=name\n",
    "                                                                   )\n",
    "    except:\n",
    "        print(traceback.format_exc())\n",
    "        results=[]\n",
    "        importances=[]\n",
    "        \n",
    "    try:\n",
    "        scores = np.array(results['scores'])\n",
    "    except:\n",
    "        scores=[]\n",
    "        \n",
    "    data = {'scores' : scores, \n",
    "            'feature_importances': feature_importances, \n",
    "            'importances' : importances\n",
    "    }\n",
    "    \n",
    "    save_fname = join(DATA_BASE_PATH,f'importances_{target}_{opt}_{name}.pkl')\n",
    "    \n",
    "    print(f'Writing {save_fname}...')\n",
    "    with open(save_fname, 'wb') as f:\n",
    "        pickle.dump(data, f) "
   ]
  },
  {
   "cell_type": "code",
   "execution_count": null,
   "id": "c7ddc445",
   "metadata": {},
   "outputs": [],
   "source": [
    "run_parallel(func, \n",
    "             args_iterator=to_iterator(targets, opts, names), \n",
    "             n_jobs=len(targets)*len(opts)*len(names), \n",
    "             description='Feature Importance Experiment')"
   ]
  },
  {
   "cell_type": "markdown",
   "id": "e43b995c",
   "metadata": {},
   "source": [
    "### Train models in the top and bottom 15 predictors. "
   ]
  },
  {
   "cell_type": "code",
   "execution_count": 3,
   "id": "9c8c78ac",
   "metadata": {},
   "outputs": [],
   "source": [
    "N_FEATURES = 15"
   ]
  },
  {
   "cell_type": "code",
   "execution_count": 13,
   "id": "0c088fe2",
   "metadata": {},
   "outputs": [],
   "source": [
    "def train_top_and_bottom_predictors(dataset):\n",
    "    \n",
    "    data = {}\n",
    "    time = 'first_hour'\n",
    "    opt = ''\n",
    "    \n",
    "    param_grid = {\n",
    "            'tol' : hp.uniform('tol', 0.00001, 0.0001),\n",
    "            'C': hp.lognormal('C', 0, 1.0),\n",
    "            'solver' : 'saga',\n",
    "            'max_iter' : hp.choice('max_iter', range(100,1000)),\n",
    "                }\n",
    "    \n",
    "    save_fname = join(DATA_BASE_PATH, f'top_worst_predictors_{dataset}_{opt}_scores.pkl')\n",
    "    model, X, y, dates, fti = load_data_and_model(dataset, 'original', DATA_BASE_PATH, MODEL_BASE_PATH, \n",
    "                                            return_dates=True)\n",
    "    model_fname = join(MODEL_BASE_PATH,\n",
    "                           f'LogisticRegression_first_hour_{dataset}_under_standard_{opt}.pkl')\n",
    "    \n",
    "    original_features = list(X.columns)\n",
    "    #params = model[1].base_estimator.named_steps['model'].get_params()\n",
    "    #params['max_iter'] = 300\n",
    "    #params['n_jobs'] = 1\n",
    "    \n",
    "    params = {'solver' : 'saga', 'random_state' : 42}\n",
    "    \n",
    "    known_skew = np.mean(y)\n",
    "        \n",
    "    fname = join(DATA_BASE_PATH, f'importances_{dataset}_{opt}_unnormalized.pkl')\n",
    "    with open(fname, 'rb') as f:\n",
    "        data = pickle.load(f)     \n",
    "    \n",
    "    feature_importances = data['feature_importances']\n",
    "    results = {m:{} for m in feature_importances.keys() }\n",
    "    \n",
    "    ### for m in feature_importances.keys():\n",
    "    for m in ['sage']:\n",
    "        \n",
    "        print('*'*40)\n",
    "        print(f'\\nMethod : {m}\\n')\n",
    "        print('*'*40)\n",
    "        imp = feature_importances[m]\n",
    "        \n",
    "        best_5 = list(feature_importances[m].columns[:N_FEATURES])\n",
    "        worst_5 = list(feature_importances[m].columns[-N_FEATURES:])\n",
    "        \n",
    "        top_scores = []\n",
    "        for i, _ in tqdm(enumerate(best_5), total=N_FEATURES, desc='Top Predictors'):\n",
    "            estimator = LogisticRegression()\n",
    "            \n",
    "            clf = CalibratedPipelineHyperOptCV( base_estimator = estimator,\n",
    "                                  param_grid = param_grid,\n",
    "                                  resample='under',\n",
    "                                  scaler='standard',\n",
    "                                  imputer=None,\n",
    "                                  hyperopt='atpe',\n",
    "                                  n_jobs=1,\n",
    "                                  max_iter=20,\n",
    "                                  scorer_kwargs = {'known_skew': known_skew},\n",
    "                                  cv = 'date_based',\n",
    "                                  cv_kwargs = {'n_splits' : 5,\n",
    "                                               'dates' : dates,\n",
    "                                               'valid_size' : 20 },\n",
    "                                  )\n",
    "            \n",
    "            \n",
    "            feature_subset = best_5[:i+1]\n",
    "            #print('\\n', feature_subset)\n",
    "            X_subset = X[feature_subset]\n",
    "            clf.fit(X_subset, y, params=params)\n",
    "            preds = clf.predict_proba(X_subset)[:,1]\n",
    "            ds = get_bootstrap_score(y, preds, n_bootstrap=100, \n",
    "                                     known_skew = known_skew, \n",
    "                                     forecast_time_indices = fti.astype(float),\n",
    "                                     metric_mapper={'naupdc' : norm_aupdc})\n",
    "            top_scores.append(ds)\n",
    "            \n",
    "        bottom_scores = []\n",
    "        for i, _ in tqdm(enumerate(worst_5[::-1]), total=N_FEATURES, desc='Bottom Predictors'):\n",
    "            estimator = LogisticRegression()\n",
    "            clf = CalibratedPipelineHyperOptCV( base_estimator = estimator,\n",
    "                                  param_grid = param_grid,\n",
    "                                  resample='under',\n",
    "                                  scaler='standard',\n",
    "                                  imputer=None,\n",
    "                                  hyperopt='atpe',\n",
    "                                  n_jobs=1,\n",
    "                                  max_iter=20,\n",
    "                                  scorer_kwargs = {'known_skew': known_skew },\n",
    "                                  cv = 'date_based',\n",
    "                                  cv_kwargs = {'n_splits' : 5,\n",
    "                                               'dates' : dates,\n",
    "                                               'valid_size' : 20 },\n",
    "                                  )\n",
    "            \n",
    "            feature_subset = worst_5[::-1][:i+1]\n",
    "            #print('\\n', feature_subset)\n",
    "            X_subset = X[feature_subset]\n",
    "            clf.fit(X_subset, y, params=params)\n",
    "            preds = clf.predict_proba(X_subset)[:,1]\n",
    "            ds = get_bootstrap_score(y, preds, n_bootstrap=100, \n",
    "                                     known_skew = known_skew, \n",
    "                                     forecast_time_indices = fti.astype(float) ,\n",
    "                                     metric_mapper={'naupdc' : norm_aupdc})\n",
    "            \n",
    "            bottom_scores.append(ds)\n",
    "            \n",
    "        #results[m]['top_scores'] = top_scores\n",
    "        #results[m]['bottom_scores'] = bottom_scores\n",
    "    \n",
    "    with open(save_fname, 'rb') as f:\n",
    "        existing_results = pickle.load(f)\n",
    "    \n",
    "    existing_results[m]['top_scores'] = top_scores\n",
    "    existing_results[m]['bottom_scores'] = bottom_scores\n",
    "    \n",
    "    with open(save_fname, 'wb') as f:\n",
    "        pickle.dump(existing_results, f)"
   ]
  },
  {
   "cell_type": "code",
   "execution_count": 14,
   "id": "64737f23",
   "metadata": {},
   "outputs": [
    {
     "name": "stdout",
     "output_type": "stream",
     "text": [
      "****************************************\n",
      "\n",
      "Method : sage\n",
      "\n",
      "****************************************\n"
     ]
    },
    {
     "name": "stderr",
     "output_type": "stream",
     "text": [
      "\r",
      "Top Predictors:   0%|                                                                                                                                                 | 0/15 [00:00<?, ?it/s]"
     ]
    },
    {
     "name": "stdout",
     "output_type": "stream",
     "text": [
      "Unable to convert hyperparam results!\n"
     ]
    },
    {
     "name": "stderr",
     "output_type": "stream",
     "text": [
      "\r",
      "Top Predictors:   7%|█████████▏                                                                                                                               | 1/15 [00:12<02:53, 12.37s/it]"
     ]
    },
    {
     "name": "stdout",
     "output_type": "stream",
     "text": [
      "Unable to convert hyperparam results!\n"
     ]
    },
    {
     "name": "stderr",
     "output_type": "stream",
     "text": [
      "\r",
      "Top Predictors:  13%|██████████████████▎                                                                                                                      | 2/15 [00:24<02:42, 12.46s/it]"
     ]
    },
    {
     "name": "stdout",
     "output_type": "stream",
     "text": [
      "Unable to convert hyperparam results!\n"
     ]
    },
    {
     "name": "stderr",
     "output_type": "stream",
     "text": [
      "\r",
      "Top Predictors:  20%|███████████████████████████▍                                                                                                             | 3/15 [00:37<02:29, 12.47s/it]"
     ]
    },
    {
     "name": "stdout",
     "output_type": "stream",
     "text": [
      "Unable to convert hyperparam results!\n"
     ]
    },
    {
     "name": "stderr",
     "output_type": "stream",
     "text": [
      "\r",
      "Top Predictors:  27%|████████████████████████████████████▌                                                                                                    | 4/15 [00:49<02:17, 12.51s/it]"
     ]
    },
    {
     "name": "stdout",
     "output_type": "stream",
     "text": [
      "Unable to convert hyperparam results!\n"
     ]
    },
    {
     "name": "stderr",
     "output_type": "stream",
     "text": [
      "\r",
      "Top Predictors:  33%|█████████████████████████████████████████████▋                                                                                           | 5/15 [01:02<02:05, 12.54s/it]"
     ]
    },
    {
     "name": "stdout",
     "output_type": "stream",
     "text": [
      "Unable to convert hyperparam results!\n"
     ]
    },
    {
     "name": "stderr",
     "output_type": "stream",
     "text": [
      "\r",
      "Top Predictors:  40%|██████████████████████████████████████████████████████▊                                                                                  | 6/15 [01:15<01:53, 12.57s/it]"
     ]
    },
    {
     "name": "stdout",
     "output_type": "stream",
     "text": [
      "Unable to convert hyperparam results!\n"
     ]
    },
    {
     "name": "stderr",
     "output_type": "stream",
     "text": [
      "\r",
      "Top Predictors:  47%|███████████████████████████████████████████████████████████████▉                                                                         | 7/15 [01:27<01:40, 12.56s/it]"
     ]
    },
    {
     "name": "stdout",
     "output_type": "stream",
     "text": [
      "Unable to convert hyperparam results!\n"
     ]
    },
    {
     "name": "stderr",
     "output_type": "stream",
     "text": [
      "\r",
      "Top Predictors:  53%|█████████████████████████████████████████████████████████████████████████                                                                | 8/15 [01:40<01:27, 12.54s/it]"
     ]
    },
    {
     "name": "stdout",
     "output_type": "stream",
     "text": [
      "Unable to convert hyperparam results!\n"
     ]
    },
    {
     "name": "stderr",
     "output_type": "stream",
     "text": [
      "\r",
      "Top Predictors:  60%|██████████████████████████████████████████████████████████████████████████████████▏                                                      | 9/15 [01:52<01:15, 12.56s/it]"
     ]
    },
    {
     "name": "stdout",
     "output_type": "stream",
     "text": [
      "Unable to convert hyperparam results!\n"
     ]
    },
    {
     "name": "stderr",
     "output_type": "stream",
     "text": [
      "\r",
      "Top Predictors:  67%|██████████████████████████████████████████████████████████████████████████████████████████▋                                             | 10/15 [02:05<01:03, 12.71s/it]"
     ]
    },
    {
     "name": "stdout",
     "output_type": "stream",
     "text": [
      "Unable to convert hyperparam results!\n"
     ]
    },
    {
     "name": "stderr",
     "output_type": "stream",
     "text": [
      "\r",
      "Top Predictors:  73%|███████████████████████████████████████████████████████████████████████████████████████████████████▋                                    | 11/15 [02:18<00:51, 12.82s/it]"
     ]
    },
    {
     "name": "stdout",
     "output_type": "stream",
     "text": [
      "Unable to convert hyperparam results!\n"
     ]
    },
    {
     "name": "stderr",
     "output_type": "stream",
     "text": [
      "\r",
      "Top Predictors:  80%|████████████████████████████████████████████████████████████████████████████████████████████████████████████▊                           | 12/15 [02:31<00:38, 12.89s/it]"
     ]
    },
    {
     "name": "stdout",
     "output_type": "stream",
     "text": [
      "Unable to convert hyperparam results!\n"
     ]
    },
    {
     "name": "stderr",
     "output_type": "stream",
     "text": [
      "\r",
      "Top Predictors:  87%|█████████████████████████████████████████████████████████████████████████████████████████████████████████████████████▊                  | 13/15 [02:45<00:25, 12.93s/it]"
     ]
    },
    {
     "name": "stdout",
     "output_type": "stream",
     "text": [
      "Unable to convert hyperparam results!\n"
     ]
    },
    {
     "name": "stderr",
     "output_type": "stream",
     "text": [
      "\r",
      "Top Predictors:  93%|██████████████████████████████████████████████████████████████████████████████████████████████████████████████████████████████▉         | 14/15 [02:58<00:13, 13.06s/it]"
     ]
    },
    {
     "name": "stdout",
     "output_type": "stream",
     "text": [
      "Unable to convert hyperparam results!\n"
     ]
    },
    {
     "name": "stderr",
     "output_type": "stream",
     "text": [
      "Top Predictors: 100%|████████████████████████████████████████████████████████████████████████████████████████████████████████████████████████████████████████| 15/15 [03:11<00:00, 12.78s/it]\n",
      "Bottom Predictors:   0%|                                                                                                                                              | 0/15 [00:00<?, ?it/s]"
     ]
    },
    {
     "name": "stdout",
     "output_type": "stream",
     "text": [
      "Unable to convert hyperparam results!\n"
     ]
    },
    {
     "name": "stderr",
     "output_type": "stream",
     "text": [
      "\r",
      "Bottom Predictors:   7%|████████▉                                                                                                                             | 1/15 [00:12<02:52, 12.35s/it]"
     ]
    },
    {
     "name": "stdout",
     "output_type": "stream",
     "text": [
      "Unable to convert hyperparam results!\n"
     ]
    },
    {
     "name": "stderr",
     "output_type": "stream",
     "text": [
      "\r",
      "Bottom Predictors:  13%|█████████████████▊                                                                                                                    | 2/15 [00:24<02:41, 12.41s/it]"
     ]
    },
    {
     "name": "stdout",
     "output_type": "stream",
     "text": [
      "Unable to convert hyperparam results!\n"
     ]
    },
    {
     "name": "stderr",
     "output_type": "stream",
     "text": [
      "\r",
      "Bottom Predictors:  20%|██████████████████████████▊                                                                                                           | 3/15 [00:37<02:30, 12.51s/it]"
     ]
    },
    {
     "name": "stdout",
     "output_type": "stream",
     "text": [
      "Unable to convert hyperparam results!\n"
     ]
    },
    {
     "name": "stderr",
     "output_type": "stream",
     "text": [
      "\r",
      "Bottom Predictors:  27%|███████████████████████████████████▋                                                                                                  | 4/15 [00:49<02:17, 12.51s/it]"
     ]
    },
    {
     "name": "stdout",
     "output_type": "stream",
     "text": [
      "Unable to convert hyperparam results!\n"
     ]
    },
    {
     "name": "stderr",
     "output_type": "stream",
     "text": [
      "\r",
      "Bottom Predictors:  33%|████████████████████████████████████████████▋                                                                                         | 5/15 [01:02<02:04, 12.47s/it]"
     ]
    },
    {
     "name": "stdout",
     "output_type": "stream",
     "text": [
      "Unable to convert hyperparam results!\n"
     ]
    },
    {
     "name": "stderr",
     "output_type": "stream",
     "text": [
      "\r",
      "Bottom Predictors:  40%|█████████████████████████████████████████████████████▌                                                                                | 6/15 [01:14<01:52, 12.52s/it]"
     ]
    },
    {
     "name": "stdout",
     "output_type": "stream",
     "text": [
      "Unable to convert hyperparam results!\n"
     ]
    },
    {
     "name": "stderr",
     "output_type": "stream",
     "text": [
      "\r",
      "Bottom Predictors:  47%|██████████████████████████████████████████████████████████████▌                                                                       | 7/15 [01:27<01:40, 12.56s/it]"
     ]
    },
    {
     "name": "stdout",
     "output_type": "stream",
     "text": [
      "Unable to convert hyperparam results!\n"
     ]
    },
    {
     "name": "stderr",
     "output_type": "stream",
     "text": [
      "\r",
      "Bottom Predictors:  53%|███████████████████████████████████████████████████████████████████████▍                                                              | 8/15 [01:40<01:28, 12.64s/it]"
     ]
    },
    {
     "name": "stdout",
     "output_type": "stream",
     "text": [
      "Unable to convert hyperparam results!\n"
     ]
    },
    {
     "name": "stderr",
     "output_type": "stream",
     "text": [
      "\r",
      "Bottom Predictors:  60%|████████████████████████████████████████████████████████████████████████████████▍                                                     | 9/15 [01:53<01:16, 12.71s/it]"
     ]
    },
    {
     "name": "stdout",
     "output_type": "stream",
     "text": [
      "Unable to convert hyperparam results!\n"
     ]
    },
    {
     "name": "stderr",
     "output_type": "stream",
     "text": [
      "\r",
      "Bottom Predictors:  67%|████████████████████████████████████████████████████████████████████████████████████████▋                                            | 10/15 [02:06<01:03, 12.74s/it]"
     ]
    },
    {
     "name": "stdout",
     "output_type": "stream",
     "text": [
      "Unable to convert hyperparam results!\n"
     ]
    },
    {
     "name": "stderr",
     "output_type": "stream",
     "text": [
      "\r",
      "Bottom Predictors:  73%|█████████████████████████████████████████████████████████████████████████████████████████████████▌                                   | 11/15 [02:18<00:51, 12.76s/it]"
     ]
    },
    {
     "name": "stdout",
     "output_type": "stream",
     "text": [
      "Unable to convert hyperparam results!\n"
     ]
    },
    {
     "name": "stderr",
     "output_type": "stream",
     "text": [
      "\r",
      "Bottom Predictors:  80%|██████████████████████████████████████████████████████████████████████████████████████████████████████████▍                          | 12/15 [02:31<00:38, 12.83s/it]"
     ]
    },
    {
     "name": "stdout",
     "output_type": "stream",
     "text": [
      "Unable to convert hyperparam results!\n"
     ]
    },
    {
     "name": "stderr",
     "output_type": "stream",
     "text": [
      "\r",
      "Bottom Predictors:  87%|███████████████████████████████████████████████████████████████████████████████████████████████████████████████████▎                 | 13/15 [02:45<00:25, 12.96s/it]"
     ]
    },
    {
     "name": "stdout",
     "output_type": "stream",
     "text": [
      "Unable to convert hyperparam results!\n"
     ]
    },
    {
     "name": "stderr",
     "output_type": "stream",
     "text": [
      "\r",
      "Bottom Predictors:  93%|████████████████████████████████████████████████████████████████████████████████████████████████████████████████████████████▏        | 14/15 [02:58<00:13, 13.04s/it]"
     ]
    },
    {
     "name": "stdout",
     "output_type": "stream",
     "text": [
      "Unable to convert hyperparam results!\n"
     ]
    },
    {
     "name": "stderr",
     "output_type": "stream",
     "text": [
      "Bottom Predictors: 100%|█████████████████████████████████████████████████████████████████████████████████████████████████████████████████████████████████████| 15/15 [03:11<00:00, 12.77s/it]\n"
     ]
    }
   ],
   "source": [
    "#train_top_and_bottom_predictors('tornado')"
   ]
  },
  {
   "cell_type": "code",
   "execution_count": 15,
   "id": "63c74d26",
   "metadata": {},
   "outputs": [
    {
     "data": {
      "application/vnd.jupyter.widget-view+json": {
       "model_id": "1a3d62eb8d05461cb217eb61d8dc7288",
       "version_major": 2,
       "version_minor": 0
      },
      "text/plain": [
       "Feature Importance Experiment:   0%|          | 0/3 [00:00<?, ?it/s]"
      ]
     },
     "metadata": {},
     "output_type": "display_data"
    },
    {
     "name": "stdout",
     "output_type": "stream",
     "text": [
      "****************************************\n",
      "\n",
      "Method : sage\n",
      "\n",
      "****************************************\n"
     ]
    },
    {
     "name": "stderr",
     "output_type": "stream",
     "text": [
      "\n",
      "Top Predictors:   0%|                                                                                                                                                 | 0/15 [00:00<?, ?it/s]\u001b[A"
     ]
    },
    {
     "name": "stdout",
     "output_type": "stream",
     "text": [
      "Unable to convert hyperparam results!\n",
      "****************************************\n",
      "\n",
      "Method : sage\n",
      "\n",
      "****************************************\n"
     ]
    },
    {
     "name": "stderr",
     "output_type": "stream",
     "text": [
      "\n",
      "Top Predictors:   0%|                                                                                                                                                 | 0/15 [00:00<?, ?it/s]\u001b[A"
     ]
    },
    {
     "name": "stdout",
     "output_type": "stream",
     "text": [
      "****************************************\n",
      "\n",
      "Method : sage\n",
      "\n",
      "****************************************\n"
     ]
    },
    {
     "name": "stderr",
     "output_type": "stream",
     "text": [
      "\n",
      "Top Predictors:   0%|                                                                                                                                                 | 0/15 [00:00<?, ?it/s]\u001b[A"
     ]
    },
    {
     "name": "stdout",
     "output_type": "stream",
     "text": [
      "Unable to convert hyperparam results!\n",
      "Unable to convert hyperparam results!\n"
     ]
    },
    {
     "name": "stderr",
     "output_type": "stream",
     "text": [
      "\n",
      "Top Predictors:   7%|█████████▏                                                                                                                               | 1/15 [00:14<03:21, 14.39s/it]\u001b[A"
     ]
    },
    {
     "name": "stdout",
     "output_type": "stream",
     "text": [
      "Unable to convert hyperparam results!\n"
     ]
    },
    {
     "name": "stderr",
     "output_type": "stream",
     "text": [
      "\n",
      "Top Predictors:   7%|█████████▏                                                                                                                               | 1/15 [00:16<03:44, 16.06s/it]\u001b[A\n",
      "Top Predictors:   7%|█████████▏                                                                                                                               | 1/15 [00:16<03:49, 16.42s/it]\u001b[A"
     ]
    },
    {
     "name": "stdout",
     "output_type": "stream",
     "text": [
      "Unable to convert hyperparam results!\n",
      "Unable to convert hyperparam results!\n"
     ]
    },
    {
     "name": "stderr",
     "output_type": "stream",
     "text": [
      "\n",
      "Top Predictors:  13%|██████████████████▎                                                                                                                      | 2/15 [00:28<03:07, 14.39s/it]\u001b[A"
     ]
    },
    {
     "name": "stdout",
     "output_type": "stream",
     "text": [
      "Unable to convert hyperparam results!\n"
     ]
    },
    {
     "name": "stderr",
     "output_type": "stream",
     "text": [
      "\n",
      "Top Predictors:  13%|██████████████████▎                                                                                                                      | 2/15 [00:31<03:21, 15.48s/it]\u001b[A"
     ]
    },
    {
     "name": "stdout",
     "output_type": "stream",
     "text": [
      "Unable to convert hyperparam results!\n"
     ]
    },
    {
     "name": "stderr",
     "output_type": "stream",
     "text": [
      "\n",
      "Top Predictors:  13%|██████████████████▎                                                                                                                      | 2/15 [00:32<03:31, 16.26s/it]\u001b[A"
     ]
    },
    {
     "name": "stdout",
     "output_type": "stream",
     "text": [
      "Unable to convert hyperparam results!\n"
     ]
    },
    {
     "name": "stderr",
     "output_type": "stream",
     "text": [
      "\n",
      "Top Predictors:  20%|███████████████████████████▍                                                                                                             | 3/15 [00:43<02:51, 14.32s/it]\u001b[A"
     ]
    },
    {
     "name": "stdout",
     "output_type": "stream",
     "text": [
      "Unable to convert hyperparam results!\n"
     ]
    },
    {
     "name": "stderr",
     "output_type": "stream",
     "text": [
      "\n",
      "Top Predictors:  20%|███████████████████████████▍                                                                                                             | 3/15 [00:45<03:01, 15.14s/it]\u001b[A"
     ]
    },
    {
     "name": "stdout",
     "output_type": "stream",
     "text": [
      "Unable to convert hyperparam results!\n"
     ]
    },
    {
     "name": "stderr",
     "output_type": "stream",
     "text": [
      "\n",
      "Top Predictors:  20%|███████████████████████████▍                                                                                                             | 3/15 [00:47<03:09, 15.81s/it]\u001b[A"
     ]
    },
    {
     "name": "stdout",
     "output_type": "stream",
     "text": [
      "Unable to convert hyperparam results!\n"
     ]
    },
    {
     "name": "stderr",
     "output_type": "stream",
     "text": [
      "\n",
      "Top Predictors:  27%|████████████████████████████████████▌                                                                                                    | 4/15 [00:57<02:37, 14.32s/it]\u001b[A"
     ]
    },
    {
     "name": "stdout",
     "output_type": "stream",
     "text": [
      "Unable to convert hyperparam results!\n"
     ]
    },
    {
     "name": "stderr",
     "output_type": "stream",
     "text": [
      "\n",
      "Top Predictors:  27%|████████████████████████████████████▌                                                                                                    | 4/15 [01:00<02:45, 15.05s/it]\u001b[A"
     ]
    },
    {
     "name": "stdout",
     "output_type": "stream",
     "text": [
      "Unable to convert hyperparam results!\n"
     ]
    },
    {
     "name": "stderr",
     "output_type": "stream",
     "text": [
      "\n",
      "Top Predictors:  27%|████████████████████████████████████▌                                                                                                    | 4/15 [01:02<02:50, 15.51s/it]\u001b[A"
     ]
    },
    {
     "name": "stdout",
     "output_type": "stream",
     "text": [
      "Unable to convert hyperparam results!\n"
     ]
    },
    {
     "name": "stderr",
     "output_type": "stream",
     "text": [
      "\n",
      "Top Predictors:  33%|█████████████████████████████████████████████▋                                                                                           | 5/15 [01:11<02:22, 14.23s/it]\u001b[A"
     ]
    },
    {
     "name": "stdout",
     "output_type": "stream",
     "text": [
      "Unable to convert hyperparam results!\n"
     ]
    },
    {
     "name": "stderr",
     "output_type": "stream",
     "text": [
      "\n",
      "Top Predictors:  33%|█████████████████████████████████████████████▋                                                                                           | 5/15 [01:15<02:28, 14.87s/it]\u001b[A"
     ]
    },
    {
     "name": "stdout",
     "output_type": "stream",
     "text": [
      "Unable to convert hyperparam results!\n"
     ]
    },
    {
     "name": "stderr",
     "output_type": "stream",
     "text": [
      "\n",
      "Top Predictors:  33%|█████████████████████████████████████████████▋                                                                                           | 5/15 [01:17<02:33, 15.31s/it]\u001b[A"
     ]
    },
    {
     "name": "stdout",
     "output_type": "stream",
     "text": [
      "Unable to convert hyperparam results!\n"
     ]
    },
    {
     "name": "stderr",
     "output_type": "stream",
     "text": [
      "\n",
      "Top Predictors:  40%|██████████████████████████████████████████████████████▊                                                                                  | 6/15 [01:25<02:06, 14.08s/it]\u001b[A"
     ]
    },
    {
     "name": "stdout",
     "output_type": "stream",
     "text": [
      "Unable to convert hyperparam results!\n"
     ]
    },
    {
     "name": "stderr",
     "output_type": "stream",
     "text": [
      "\n",
      "Top Predictors:  40%|██████████████████████████████████████████████████████▊                                                                                  | 6/15 [01:29<02:13, 14.79s/it]\u001b[A"
     ]
    },
    {
     "name": "stdout",
     "output_type": "stream",
     "text": [
      "Unable to convert hyperparam results!\n"
     ]
    },
    {
     "name": "stderr",
     "output_type": "stream",
     "text": [
      "\n",
      "Top Predictors:  40%|██████████████████████████████████████████████████████▊                                                                                  | 6/15 [01:32<02:15, 15.08s/it]\u001b[A"
     ]
    },
    {
     "name": "stdout",
     "output_type": "stream",
     "text": [
      "Unable to convert hyperparam results!\n"
     ]
    },
    {
     "name": "stderr",
     "output_type": "stream",
     "text": [
      "\n",
      "Top Predictors:  47%|███████████████████████████████████████████████████████████████▉                                                                         | 7/15 [01:39<01:52, 14.03s/it]\u001b[A"
     ]
    },
    {
     "name": "stdout",
     "output_type": "stream",
     "text": [
      "Unable to convert hyperparam results!\n"
     ]
    },
    {
     "name": "stderr",
     "output_type": "stream",
     "text": [
      "\n",
      "Top Predictors:  47%|███████████████████████████████████████████████████████████████▉                                                                         | 7/15 [01:44<01:57, 14.65s/it]\u001b[A"
     ]
    },
    {
     "name": "stdout",
     "output_type": "stream",
     "text": [
      "Unable to convert hyperparam results!\n"
     ]
    },
    {
     "name": "stderr",
     "output_type": "stream",
     "text": [
      "\n",
      "Top Predictors:  47%|███████████████████████████████████████████████████████████████▉                                                                         | 7/15 [01:47<01:59, 14.99s/it]\u001b[A"
     ]
    },
    {
     "name": "stdout",
     "output_type": "stream",
     "text": [
      "Unable to convert hyperparam results!\n"
     ]
    },
    {
     "name": "stderr",
     "output_type": "stream",
     "text": [
      "\n",
      "Top Predictors:  53%|█████████████████████████████████████████████████████████████████████████                                                                | 8/15 [01:53<01:38, 14.03s/it]\u001b[A"
     ]
    },
    {
     "name": "stdout",
     "output_type": "stream",
     "text": [
      "Unable to convert hyperparam results!\n"
     ]
    },
    {
     "name": "stderr",
     "output_type": "stream",
     "text": [
      "\n",
      "Top Predictors:  53%|█████████████████████████████████████████████████████████████████████████                                                                | 8/15 [01:58<01:42, 14.61s/it]\u001b[A"
     ]
    },
    {
     "name": "stdout",
     "output_type": "stream",
     "text": [
      "Unable to convert hyperparam results!\n"
     ]
    },
    {
     "name": "stderr",
     "output_type": "stream",
     "text": [
      "\n",
      "Top Predictors:  53%|█████████████████████████████████████████████████████████████████████████                                                                | 8/15 [02:03<01:47, 15.29s/it]\u001b[A\n",
      "Top Predictors:  60%|██████████████████████████████████████████████████████████████████████████████████▏                                                      | 9/15 [02:07<01:24, 14.08s/it]\u001b[A"
     ]
    },
    {
     "name": "stdout",
     "output_type": "stream",
     "text": [
      "Unable to convert hyperparam results!\n",
      "Unable to convert hyperparam results!\n"
     ]
    },
    {
     "name": "stderr",
     "output_type": "stream",
     "text": [
      "\n",
      "Top Predictors:  60%|██████████████████████████████████████████████████████████████████████████████████▏                                                      | 9/15 [02:13<01:27, 14.61s/it]\u001b[A"
     ]
    },
    {
     "name": "stdout",
     "output_type": "stream",
     "text": [
      "Unable to convert hyperparam results!\n"
     ]
    },
    {
     "name": "stderr",
     "output_type": "stream",
     "text": [
      "\n",
      "Top Predictors:  67%|██████████████████████████████████████████████████████████████████████████████████████████▋                                             | 10/15 [02:21<01:10, 14.13s/it]\u001b[A\n",
      "Top Predictors:  60%|██████████████████████████████████████████████████████████████████████████████████▏                                                      | 9/15 [02:19<01:33, 15.62s/it]\u001b[A"
     ]
    },
    {
     "name": "stdout",
     "output_type": "stream",
     "text": [
      "Unable to convert hyperparam results!\n",
      "Unable to convert hyperparam results!\n"
     ]
    },
    {
     "name": "stderr",
     "output_type": "stream",
     "text": [
      "\n",
      "Top Predictors:  67%|██████████████████████████████████████████████████████████████████████████████████████████▋                                             | 10/15 [02:28<01:13, 14.76s/it]\u001b[A"
     ]
    },
    {
     "name": "stdout",
     "output_type": "stream",
     "text": [
      "Unable to convert hyperparam results!\n"
     ]
    },
    {
     "name": "stderr",
     "output_type": "stream",
     "text": [
      "\n",
      "Top Predictors:  73%|███████████████████████████████████████████████████████████████████████████████████████████████████▋                                    | 11/15 [02:35<00:56, 14.16s/it]\u001b[A"
     ]
    },
    {
     "name": "stdout",
     "output_type": "stream",
     "text": [
      "Unable to convert hyperparam results!\n"
     ]
    },
    {
     "name": "stderr",
     "output_type": "stream",
     "text": [
      "\n",
      "Top Predictors:  67%|██████████████████████████████████████████████████████████████████████████████████████████▋                                             | 10/15 [02:35<01:19, 15.86s/it]\u001b[A"
     ]
    },
    {
     "name": "stdout",
     "output_type": "stream",
     "text": [
      "Unable to convert hyperparam results!\n"
     ]
    },
    {
     "name": "stderr",
     "output_type": "stream",
     "text": [
      "\n",
      "Top Predictors:  73%|███████████████████████████████████████████████████████████████████████████████████████████████████▋                                    | 11/15 [02:43<00:59, 14.79s/it]\u001b[A"
     ]
    },
    {
     "name": "stdout",
     "output_type": "stream",
     "text": [
      "Unable to convert hyperparam results!\n"
     ]
    },
    {
     "name": "stderr",
     "output_type": "stream",
     "text": [
      "\n",
      "Top Predictors:  80%|████████████████████████████████████████████████████████████████████████████████████████████████████████████▊                           | 12/15 [02:50<00:42, 14.22s/it]\u001b[A"
     ]
    },
    {
     "name": "stdout",
     "output_type": "stream",
     "text": [
      "Unable to convert hyperparam results!\n"
     ]
    },
    {
     "name": "stderr",
     "output_type": "stream",
     "text": [
      "\n",
      "Top Predictors:  73%|███████████████████████████████████████████████████████████████████████████████████████████████████▋                                    | 11/15 [02:52<01:04, 16.07s/it]\u001b[A"
     ]
    },
    {
     "name": "stdout",
     "output_type": "stream",
     "text": [
      "Unable to convert hyperparam results!\n"
     ]
    },
    {
     "name": "stderr",
     "output_type": "stream",
     "text": [
      "\n",
      "Top Predictors:  80%|████████████████████████████████████████████████████████████████████████████████████████████████████████████▊                           | 12/15 [02:58<00:44, 14.83s/it]\u001b[A"
     ]
    },
    {
     "name": "stdout",
     "output_type": "stream",
     "text": [
      "Unable to convert hyperparam results!\n"
     ]
    },
    {
     "name": "stderr",
     "output_type": "stream",
     "text": [
      "\n",
      "Top Predictors:  87%|█████████████████████████████████████████████████████████████████████████████████████████████████████████████████████▊                  | 13/15 [03:04<00:28, 14.30s/it]\u001b[A"
     ]
    },
    {
     "name": "stdout",
     "output_type": "stream",
     "text": [
      "Unable to convert hyperparam results!\n"
     ]
    },
    {
     "name": "stderr",
     "output_type": "stream",
     "text": [
      "\n",
      "Top Predictors:  80%|████████████████████████████████████████████████████████████████████████████████████████████████████████████▊                           | 12/15 [03:09<00:48, 16.33s/it]\u001b[A\n",
      "Top Predictors:  87%|█████████████████████████████████████████████████████████████████████████████████████████████████████████████████████▊                  | 13/15 [03:13<00:30, 15.01s/it]\u001b[A"
     ]
    },
    {
     "name": "stdout",
     "output_type": "stream",
     "text": [
      "Unable to convert hyperparam results!\n",
      "Unable to convert hyperparam results!\n"
     ]
    },
    {
     "name": "stderr",
     "output_type": "stream",
     "text": [
      "\n",
      "Top Predictors:  93%|██████████████████████████████████████████████████████████████████████████████████████████████████████████████████████████████▉         | 14/15 [03:19<00:14, 14.42s/it]\u001b[A"
     ]
    },
    {
     "name": "stdout",
     "output_type": "stream",
     "text": [
      "Unable to convert hyperparam results!\n"
     ]
    },
    {
     "name": "stderr",
     "output_type": "stream",
     "text": [
      "\n",
      "Top Predictors:  87%|█████████████████████████████████████████████████████████████████████████████████████████████████████████████████████▊                  | 13/15 [03:26<00:33, 16.67s/it]\u001b[A\n",
      "Top Predictors:  93%|██████████████████████████████████████████████████████████████████████████████████████████████████████████████████████████████▉         | 14/15 [03:29<00:15, 15.11s/it]\u001b[A"
     ]
    },
    {
     "name": "stdout",
     "output_type": "stream",
     "text": [
      "Unable to convert hyperparam results!\n",
      "Unable to convert hyperparam results!\n"
     ]
    },
    {
     "name": "stderr",
     "output_type": "stream",
     "text": [
      "\n",
      "Top Predictors: 100%|████████████████████████████████████████████████████████████████████████████████████████████████████████████████████████████████████████| 15/15 [03:34<00:00, 14.29s/it]\u001b[A\n",
      "\n",
      "Bottom Predictors:   0%|                                                                                                                                              | 0/15 [00:00<?, ?it/s]\u001b[A"
     ]
    },
    {
     "name": "stdout",
     "output_type": "stream",
     "text": [
      "Unable to convert hyperparam results!\n"
     ]
    },
    {
     "name": "stderr",
     "output_type": "stream",
     "text": [
      "\n",
      "Top Predictors: 100%|████████████████████████████████████████████████████████████████████████████████████████████████████████████████████████████████████████| 15/15 [03:44<00:00, 14.95s/it]\u001b[A\n",
      "\n",
      "Bottom Predictors:   0%|                                                                                                                                              | 0/15 [00:00<?, ?it/s]\u001b[A\n",
      "Top Predictors:  93%|██████████████████████████████████████████████████████████████████████████████████████████████████████████████████████████████▉         | 14/15 [03:44<00:16, 16.84s/it]\u001b[A\n",
      "Bottom Predictors:   7%|████████▉                                                                                                                             | 1/15 [00:13<03:07, 13.39s/it]\u001b[A"
     ]
    },
    {
     "name": "stdout",
     "output_type": "stream",
     "text": [
      "Unable to convert hyperparam results!\n",
      "Unable to convert hyperparam results!\n",
      "Unable to convert hyperparam results!\n"
     ]
    },
    {
     "name": "stderr",
     "output_type": "stream",
     "text": [
      "\n",
      "Bottom Predictors:   7%|████████▉                                                                                                                             | 1/15 [00:13<03:13, 13.83s/it]\u001b[A\n",
      "Bottom Predictors:  13%|█████████████████▊                                                                                                                    | 2/15 [00:26<02:55, 13.48s/it]\u001b[A"
     ]
    },
    {
     "name": "stdout",
     "output_type": "stream",
     "text": [
      "Unable to convert hyperparam results!\n",
      "Unable to convert hyperparam results!\n"
     ]
    },
    {
     "name": "stderr",
     "output_type": "stream",
     "text": [
      "\n",
      "Top Predictors: 100%|████████████████████████████████████████████████████████████████████████████████████████████████████████████████████████████████████████| 15/15 [04:01<00:00, 16.12s/it]\u001b[A\n",
      "\n",
      "Bottom Predictors:   0%|                                                                                                                                              | 0/15 [00:00<?, ?it/s]\u001b[A"
     ]
    },
    {
     "name": "stdout",
     "output_type": "stream",
     "text": [
      "Unable to convert hyperparam results!\n"
     ]
    },
    {
     "name": "stderr",
     "output_type": "stream",
     "text": [
      "\n",
      "Bottom Predictors:  13%|█████████████████▊                                                                                                                    | 2/15 [00:27<02:57, 13.67s/it]\u001b[A\n",
      "Bottom Predictors:  20%|██████████████████████████▊                                                                                                           | 3/15 [00:40<02:40, 13.36s/it]\u001b[A"
     ]
    },
    {
     "name": "stdout",
     "output_type": "stream",
     "text": [
      "Unable to convert hyperparam results!\n",
      "Unable to convert hyperparam results!\n"
     ]
    },
    {
     "name": "stderr",
     "output_type": "stream",
     "text": [
      "\n",
      "Bottom Predictors:   7%|████████▉                                                                                                                             | 1/15 [00:13<03:15, 13.98s/it]\u001b[A"
     ]
    },
    {
     "name": "stdout",
     "output_type": "stream",
     "text": [
      "Unable to convert hyperparam results!\n"
     ]
    },
    {
     "name": "stderr",
     "output_type": "stream",
     "text": [
      "\n",
      "Bottom Predictors:  20%|██████████████████████████▊                                                                                                           | 3/15 [00:39<02:37, 13.16s/it]\u001b[A\n",
      "Bottom Predictors:  27%|███████████████████████████████████▋                                                                                                  | 4/15 [00:53<02:26, 13.33s/it]\u001b[A"
     ]
    },
    {
     "name": "stdout",
     "output_type": "stream",
     "text": [
      "Unable to convert hyperparam results!\n",
      "Unable to convert hyperparam results!\n"
     ]
    },
    {
     "name": "stderr",
     "output_type": "stream",
     "text": [
      "\n",
      "Bottom Predictors:  13%|█████████████████▊                                                                                                                    | 2/15 [00:28<03:04, 14.19s/it]\u001b[A"
     ]
    },
    {
     "name": "stdout",
     "output_type": "stream",
     "text": [
      "Unable to convert hyperparam results!\n"
     ]
    },
    {
     "name": "stderr",
     "output_type": "stream",
     "text": [
      "\n",
      "Bottom Predictors:  27%|███████████████████████████████████▋                                                                                                  | 4/15 [00:52<02:22, 12.95s/it]\u001b[A"
     ]
    },
    {
     "name": "stdout",
     "output_type": "stream",
     "text": [
      "Unable to convert hyperparam results!\n"
     ]
    },
    {
     "name": "stderr",
     "output_type": "stream",
     "text": [
      "\n",
      "Bottom Predictors:  33%|████████████████████████████████████████████▋                                                                                         | 5/15 [01:06<02:13, 13.33s/it]\u001b[A"
     ]
    },
    {
     "name": "stdout",
     "output_type": "stream",
     "text": [
      "Unable to convert hyperparam results!\n"
     ]
    },
    {
     "name": "stderr",
     "output_type": "stream",
     "text": [
      "\n",
      "Bottom Predictors:  20%|██████████████████████████▊                                                                                                           | 3/15 [00:42<02:50, 14.23s/it]\u001b[A"
     ]
    },
    {
     "name": "stdout",
     "output_type": "stream",
     "text": [
      "Unable to convert hyperparam results!\n"
     ]
    },
    {
     "name": "stderr",
     "output_type": "stream",
     "text": [
      "\n",
      "Bottom Predictors:  33%|████████████████████████████████████████████▋                                                                                         | 5/15 [01:05<02:08, 12.85s/it]\u001b[A"
     ]
    },
    {
     "name": "stdout",
     "output_type": "stream",
     "text": [
      "Unable to convert hyperparam results!\n"
     ]
    },
    {
     "name": "stderr",
     "output_type": "stream",
     "text": [
      "\n",
      "Bottom Predictors:  40%|█████████████████████████████████████████████████████▌                                                                                | 6/15 [01:20<02:00, 13.42s/it]\u001b[A"
     ]
    },
    {
     "name": "stdout",
     "output_type": "stream",
     "text": [
      "Unable to convert hyperparam results!\n"
     ]
    },
    {
     "name": "stderr",
     "output_type": "stream",
     "text": [
      "\n",
      "Bottom Predictors:  27%|███████████████████████████████████▋                                                                                                  | 4/15 [00:56<02:36, 14.19s/it]\u001b[A"
     ]
    },
    {
     "name": "stdout",
     "output_type": "stream",
     "text": [
      "Unable to convert hyperparam results!\n"
     ]
    },
    {
     "name": "stderr",
     "output_type": "stream",
     "text": [
      "\n",
      "Bottom Predictors:  40%|█████████████████████████████████████████████████████▌                                                                                | 6/15 [01:17<01:55, 12.81s/it]\u001b[A"
     ]
    },
    {
     "name": "stdout",
     "output_type": "stream",
     "text": [
      "Unable to convert hyperparam results!\n"
     ]
    },
    {
     "name": "stderr",
     "output_type": "stream",
     "text": [
      "\n",
      "Bottom Predictors:  47%|██████████████████████████████████████████████████████████████▌                                                                       | 7/15 [01:33<01:47, 13.41s/it]\u001b[A"
     ]
    },
    {
     "name": "stdout",
     "output_type": "stream",
     "text": [
      "Unable to convert hyperparam results!\n"
     ]
    },
    {
     "name": "stderr",
     "output_type": "stream",
     "text": [
      "\n",
      "Bottom Predictors:  33%|████████████████████████████████████████████▋                                                                                         | 5/15 [01:10<02:22, 14.21s/it]\u001b[A\n",
      "Bottom Predictors:  47%|██████████████████████████████████████████████████████████████▌                                                                       | 7/15 [01:30<01:41, 12.70s/it]\u001b[A"
     ]
    },
    {
     "name": "stdout",
     "output_type": "stream",
     "text": [
      "Unable to convert hyperparam results!\n",
      "Unable to convert hyperparam results!\n"
     ]
    },
    {
     "name": "stderr",
     "output_type": "stream",
     "text": [
      "\n",
      "Bottom Predictors:  53%|███████████████████████████████████████████████████████████████████████▍                                                              | 8/15 [01:47<01:33, 13.42s/it]\u001b[A"
     ]
    },
    {
     "name": "stdout",
     "output_type": "stream",
     "text": [
      "Unable to convert hyperparam results!\n"
     ]
    },
    {
     "name": "stderr",
     "output_type": "stream",
     "text": [
      "\n",
      "Bottom Predictors:  40%|█████████████████████████████████████████████████████▌                                                                                | 6/15 [01:25<02:08, 14.27s/it]\u001b[A\n",
      "Bottom Predictors:  53%|███████████████████████████████████████████████████████████████████████▍                                                              | 8/15 [01:43<01:29, 12.84s/it]\u001b[A"
     ]
    },
    {
     "name": "stdout",
     "output_type": "stream",
     "text": [
      "Unable to convert hyperparam results!\n",
      "Unable to convert hyperparam results!\n"
     ]
    },
    {
     "name": "stderr",
     "output_type": "stream",
     "text": [
      "\n",
      "Bottom Predictors:  60%|████████████████████████████████████████████████████████████████████████████████▍                                                     | 9/15 [02:00<01:20, 13.47s/it]\u001b[A"
     ]
    },
    {
     "name": "stdout",
     "output_type": "stream",
     "text": [
      "Unable to convert hyperparam results!\n"
     ]
    },
    {
     "name": "stderr",
     "output_type": "stream",
     "text": [
      "\n",
      "Bottom Predictors:  60%|████████████████████████████████████████████████████████████████████████████████▍                                                     | 9/15 [01:57<01:18, 13.04s/it]\u001b[A\n",
      "Bottom Predictors:  47%|██████████████████████████████████████████████████████████████▌                                                                       | 7/15 [01:39<01:54, 14.36s/it]\u001b[A"
     ]
    },
    {
     "name": "stdout",
     "output_type": "stream",
     "text": [
      "Unable to convert hyperparam results!\n",
      "Unable to convert hyperparam results!\n"
     ]
    },
    {
     "name": "stderr",
     "output_type": "stream",
     "text": [
      "\n",
      "Bottom Predictors:  67%|████████████████████████████████████████████████████████████████████████████████████████▋                                            | 10/15 [02:14<01:07, 13.55s/it]\u001b[A"
     ]
    },
    {
     "name": "stdout",
     "output_type": "stream",
     "text": [
      "Unable to convert hyperparam results!\n"
     ]
    },
    {
     "name": "stderr",
     "output_type": "stream",
     "text": [
      "\n",
      "Bottom Predictors:  67%|████████████████████████████████████████████████████████████████████████████████████████▋                                            | 10/15 [02:10<01:06, 13.24s/it]\u001b[A\n",
      "Bottom Predictors:  53%|███████████████████████████████████████████████████████████████████████▍                                                              | 8/15 [01:54<01:41, 14.44s/it]\u001b[A"
     ]
    },
    {
     "name": "stdout",
     "output_type": "stream",
     "text": [
      "Unable to convert hyperparam results!\n",
      "Unable to convert hyperparam results!\n"
     ]
    },
    {
     "name": "stderr",
     "output_type": "stream",
     "text": [
      "\n",
      "Bottom Predictors:  73%|█████████████████████████████████████████████████████████████████████████████████████████████████▌                                   | 11/15 [02:28<00:54, 13.63s/it]\u001b[A"
     ]
    },
    {
     "name": "stdout",
     "output_type": "stream",
     "text": [
      "Unable to convert hyperparam results!\n"
     ]
    },
    {
     "name": "stderr",
     "output_type": "stream",
     "text": [
      "\n",
      "Bottom Predictors:  73%|█████████████████████████████████████████████████████████████████████████████████████████████████▌                                   | 11/15 [02:24<00:53, 13.33s/it]\u001b[A"
     ]
    },
    {
     "name": "stdout",
     "output_type": "stream",
     "text": [
      "Unable to convert hyperparam results!\n"
     ]
    },
    {
     "name": "stderr",
     "output_type": "stream",
     "text": [
      "\n",
      "Bottom Predictors:  60%|████████████████████████████████████████████████████████████████████████████████▍                                                     | 9/15 [02:09<01:27, 14.56s/it]\u001b[A"
     ]
    },
    {
     "name": "stdout",
     "output_type": "stream",
     "text": [
      "Unable to convert hyperparam results!\n"
     ]
    },
    {
     "name": "stderr",
     "output_type": "stream",
     "text": [
      "\n",
      "Bottom Predictors:  80%|██████████████████████████████████████████████████████████████████████████████████████████████████████████▍                          | 12/15 [02:42<00:41, 13.68s/it]\u001b[A"
     ]
    },
    {
     "name": "stdout",
     "output_type": "stream",
     "text": [
      "Unable to convert hyperparam results!\n"
     ]
    },
    {
     "name": "stderr",
     "output_type": "stream",
     "text": [
      "\n",
      "Bottom Predictors:  80%|██████████████████████████████████████████████████████████████████████████████████████████████████████████▍                          | 12/15 [02:37<00:39, 13.26s/it]\u001b[A"
     ]
    },
    {
     "name": "stdout",
     "output_type": "stream",
     "text": [
      "Unable to convert hyperparam results!\n"
     ]
    },
    {
     "name": "stderr",
     "output_type": "stream",
     "text": [
      "\n",
      "Bottom Predictors:  67%|████████████████████████████████████████████████████████████████████████████████████████▋                                            | 10/15 [02:24<01:13, 14.66s/it]\u001b[A\n",
      "Bottom Predictors:  87%|███████████████████████████████████████████████████████████████████████████████████████████████████████████████████▎                 | 13/15 [02:56<00:27, 13.78s/it]\u001b[A"
     ]
    },
    {
     "name": "stdout",
     "output_type": "stream",
     "text": [
      "Unable to convert hyperparam results!\n",
      "Unable to convert hyperparam results!\n"
     ]
    },
    {
     "name": "stderr",
     "output_type": "stream",
     "text": [
      "\n",
      "Bottom Predictors:  87%|███████████████████████████████████████████████████████████████████████████████████████████████████████████████████▎                 | 13/15 [02:52<00:27, 13.93s/it]\u001b[A"
     ]
    },
    {
     "name": "stdout",
     "output_type": "stream",
     "text": [
      "Unable to convert hyperparam results!\n"
     ]
    },
    {
     "name": "stderr",
     "output_type": "stream",
     "text": [
      "\n",
      "Bottom Predictors:  73%|█████████████████████████████████████████████████████████████████████████████████████████████████▌                                   | 11/15 [02:39<00:59, 14.92s/it]\u001b[A\n",
      "Bottom Predictors:  93%|████████████████████████████████████████████████████████████████████████████████████████████████████████████████████████████▏        | 14/15 [03:11<00:14, 14.14s/it]\u001b[A"
     ]
    },
    {
     "name": "stdout",
     "output_type": "stream",
     "text": [
      "Unable to convert hyperparam results!\n",
      "Unable to convert hyperparam results!\n"
     ]
    },
    {
     "name": "stderr",
     "output_type": "stream",
     "text": [
      "\n",
      "Bottom Predictors:  93%|████████████████████████████████████████████████████████████████████████████████████████████████████████████████████████████▏        | 14/15 [03:11<00:15, 15.21s/it]\u001b[A"
     ]
    },
    {
     "name": "stdout",
     "output_type": "stream",
     "text": [
      "Unable to convert hyperparam results!\n"
     ]
    },
    {
     "name": "stderr",
     "output_type": "stream",
     "text": [
      "\n",
      "Bottom Predictors: 100%|█████████████████████████████████████████████████████████████████████████████████████████████████████████████████████████████████████| 15/15 [03:26<00:00, 13.76s/it]\u001b[A\n",
      "\n",
      "Bottom Predictors:  80%|██████████████████████████████████████████████████████████████████████████████████████████████████████████▍                          | 12/15 [02:57<00:47, 15.67s/it]\u001b[A"
     ]
    },
    {
     "name": "stdout",
     "output_type": "stream",
     "text": [
      "Unable to convert hyperparam results!\n"
     ]
    },
    {
     "name": "stderr",
     "output_type": "stream",
     "text": [
      "\n",
      "Bottom Predictors: 100%|█████████████████████████████████████████████████████████████████████████████████████████████████████████████████████████████████████| 15/15 [03:27<00:00, 13.85s/it]\u001b[A\n",
      "\n",
      "Bottom Predictors:  87%|███████████████████████████████████████████████████████████████████████████████████████████████████████████████████▎                 | 13/15 [03:11<00:30, 15.40s/it]\u001b[A"
     ]
    },
    {
     "name": "stdout",
     "output_type": "stream",
     "text": [
      "Unable to convert hyperparam results!\n"
     ]
    },
    {
     "name": "stderr",
     "output_type": "stream",
     "text": [
      "\n",
      "Bottom Predictors:  93%|████████████████████████████████████████████████████████████████████████████████████████████████████████████████████████████▏        | 14/15 [03:26<00:15, 15.08s/it]\u001b[A"
     ]
    },
    {
     "name": "stdout",
     "output_type": "stream",
     "text": [
      "Unable to convert hyperparam results!\n"
     ]
    },
    {
     "name": "stderr",
     "output_type": "stream",
     "text": [
      "\n",
      "Bottom Predictors: 100%|█████████████████████████████████████████████████████████████████████████████████████████████████████████████████████████████████████| 15/15 [03:41<00:00, 14.73s/it]\u001b[A\n"
     ]
    },
    {
     "data": {
      "text/plain": [
       "[None, None, None]"
      ]
     },
     "execution_count": 15,
     "metadata": {},
     "output_type": "execute_result"
    }
   ],
   "source": [
    "##train_top_and_bottom_predictors()\n",
    "targets= ['tornado', 'severe_hail', 'severe_wind']\n",
    "\n",
    "run_parallel(train_top_and_bottom_predictors, \n",
    "            args_iterator=to_iterator(targets), \n",
    "             n_jobs=len(targets), \n",
    "             description='Feature Importance Experiment')"
   ]
  },
  {
   "cell_type": "code",
   "execution_count": null,
   "id": "dfe97cc0",
   "metadata": {},
   "outputs": [],
   "source": []
  }
 ],
 "metadata": {
  "kernelspec": {
   "display_name": "Python 3 (ipykernel)",
   "language": "python",
   "name": "python3"
  },
  "language_info": {
   "codemirror_mode": {
    "name": "ipython",
    "version": 3
   },
   "file_extension": ".py",
   "mimetype": "text/x-python",
   "name": "python",
   "nbconvert_exporter": "python",
   "pygments_lexer": "ipython3",
   "version": "3.8.13"
  }
 },
 "nbformat": 4,
 "nbformat_minor": 5
}
