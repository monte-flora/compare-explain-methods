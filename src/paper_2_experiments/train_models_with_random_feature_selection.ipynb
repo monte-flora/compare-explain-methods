{
 "cells": [
  {
   "cell_type": "markdown",
   "id": "9fffd266",
   "metadata": {},
   "source": [
    "## Paper 2 Experiment. \n",
    "\n",
    "Train the WoFS-ML-Severe and Road Surface ML models on random feature subsets similar to the experiment in Covert et al. (2020). "
   ]
  },
  {
   "cell_type": "code",
   "execution_count": 1,
   "id": "593b7767",
   "metadata": {},
   "outputs": [],
   "source": [
    "import sys, os \n",
    "from os.path import dirname\n",
    "path = dirname(dirname(os.getcwd()))\n",
    "sys.path.insert(0, path)\n",
    "sys.path.insert(0, '/home/monte.flora/python_packages/scikit-explain')"
   ]
  },
  {
   "cell_type": "code",
   "execution_count": 13,
   "id": "1550ac9d",
   "metadata": {},
   "outputs": [
    {
     "name": "stderr",
     "output_type": "stream",
     "text": [
      "Intel(R) Extension for Scikit-learn* enabled (https://github.com/intel/scikit-learn-intelex)\n"
     ]
    }
   ],
   "source": [
    "from sklearnex import patch_sklearn\n",
    "patch_sklearn()\n",
    "\n",
    "from src.io.io import load_data_and_model\n",
    "from skexplain.common.multiprocessing_utils import run_parallel, to_iterator\n",
    "import numpy as np \n",
    "from tqdm import tqdm \n",
    "import itertools\n",
    "import pickle\n",
    "\n",
    "from sklearn.ensemble import RandomForestClassifier\n",
    "from sklearn.linear_model import LogisticRegression\n",
    "from sklearn.metrics import average_precision_score"
   ]
  },
  {
   "cell_type": "code",
   "execution_count": 10,
   "id": "9c26ccd3",
   "metadata": {},
   "outputs": [],
   "source": [
    "N_ITER = 5000\n",
    "N_JOBS = 30\n",
    "BASE_PATH = '/work/mflora/explainability_work/'\n",
    "DATA_BASE_PATH = os.path.join(BASE_PATH, 'datasets')\n",
    "MODEL_BASE_PATH = os.path.join(BASE_PATH, 'models')\n",
    "RESULTS_PATH = os.path.join(path, 'results')"
   ]
  },
  {
   "cell_type": "code",
   "execution_count": 4,
   "id": "f54ae8aa",
   "metadata": {},
   "outputs": [],
   "source": [
    "def get_feature_subsets(X, n_iter):\n",
    "    random_state = np.random.RandomState(123)\n",
    "    features = list(X.columns)\n",
    "    n_features = random_state.choice(np.arange(2, len(features)), n_iter)\n",
    "    random_states = [np.random.RandomState(i) for i in random_state.choice(10000, size=len(n_features), \n",
    "                                                                           replace=False)]\n",
    "\n",
    "    inds = [list(random_states[i].choice(features, size=n, replace=False)) for i, n in enumerate(n_features)]\n",
    "\n",
    "    return inds"
   ]
  },
  {
   "cell_type": "code",
   "execution_count": 14,
   "id": "f97fab74",
   "metadata": {},
   "outputs": [],
   "source": [
    "datasets = ['tornado', 'severe_wind', 'severe_hail', 'road_surface']\n",
    "options = ['original', 'reduced']\n",
    "\n",
    "for dataset, option in itertools.product(datasets, options):\n",
    "\n",
    "    model, X, y = load_data_and_model(dataset, option, DATA_BASE_PATH, MODEL_BASE_PATH)\n",
    "    \n",
    "    if dataset == 'tornado' and option == 'original':\n",
    "        params = rf_orig.get_params()\n",
    "    else:\n",
    "        params = model[1].base_estimator.named_steps['model'].get_params()\n",
    "\n",
    "    if dataset == 'road_surface':\n",
    "        params['max_features'] = 'sqrt'\n",
    "    else:\n",
    "        params['max_iter'] = 300\n",
    "\n",
    "    known_skew = np.mean(y)\n",
    "    inds = get_feature_subsets(X, n_iter=N_ITER)\n",
    "\n",
    "    def _fit(feature_subset):\n",
    "        X_train = X[feature_subset]\n",
    "        if dataset == 'road_surface':\n",
    "            params['n_jobs'] = 40\n",
    "            clf = RandomForestClassifier(**params)\n",
    "        else:\n",
    "            clf = LogisticRegression(**params)\n",
    "    \n",
    "        clf.fit(X_train,y)\n",
    "        prediction = clf.predict_proba(X_train)[:,1]\n",
    "        score = average_precision_score(y, prediction)\n",
    "\n",
    "        return score\n",
    "\n",
    "    if dataset != 'road_surface':\n",
    "        scores = run_parallel(_fit, to_iterator(inds), n_jobs=N_JOBS)\n",
    "    else:\n",
    "        # Having the random forests trained in parallel was faster than\n",
    "        # trying \n",
    "        scores = []\n",
    "        for i, feature_subset in tqdm(enumerate(inds), total=N_ITER):\n",
    "            score =_fit(feature_subset)\n",
    "            scores.append(score)\n",
    "    \n",
    "    scores = np.array(scores)\n",
    "\n",
    "    results_dict = {\n",
    "            'subsets' : inds,\n",
    "            'scores' : scores\n",
    "            }\n",
    "\n",
    "    # Save the results. \n",
    "    out_fname = os.path.join(RESULTS_PATH, f'{dataset}_{option}__scores.pkl')\n",
    "    with open(out_fname, 'wb') as f:\n",
    "        pickle.dump(results_dict, f)"
   ]
  }
 ],
 "metadata": {
  "kernelspec": {
   "display_name": "Python 3 (ipykernel)",
   "language": "python",
   "name": "python3"
  },
  "language_info": {
   "codemirror_mode": {
    "name": "ipython",
    "version": 3
   },
   "file_extension": ".py",
   "mimetype": "text/x-python",
   "name": "python",
   "nbconvert_exporter": "python",
   "pygments_lexer": "ipython3",
   "version": "3.8.13"
  }
 },
 "nbformat": 4,
 "nbformat_minor": 5
}
