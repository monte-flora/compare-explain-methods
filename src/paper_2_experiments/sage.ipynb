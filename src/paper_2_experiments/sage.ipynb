{
 "cells": [
  {
   "cell_type": "code",
   "execution_count": 1,
   "metadata": {},
   "outputs": [],
   "source": [
    "import sys, os\n",
    "sys.path.append('/work/mflora/ROAD_SURFACE')\n",
    "\n",
    "import sage \n",
    "import pandas as pd\n",
    "from joblib import load\n",
    "import numpy as np\n",
    "import xarray as xr\n",
    "import pickle\n",
    "\n",
    "from skexplain.common.importance_utils import to_skexplain_importance\n",
    "from wofs_ml_severe.wofs_ml_severe.common.multiprocessing_utils import run_parallel, to_iterator\n",
    "from wofs_ml_severe.wofs_ml_severe.common.emailer import Emailer \n",
    "\n",
    "from probsr_config import TARGET_COLUMN, PREDICTOR_COLUMNS, FIGURE_MAPPINGS\n",
    "from calibration_classifier import CalibratedClassifier"
   ]
  },
  {
   "cell_type": "code",
   "execution_count": 2,
   "metadata": {},
   "outputs": [],
   "source": [
    "BASE_PATH = '/work/mflora/explainability_work/'\n",
    "DATA_BASE_PATH = os.path.join(BASE_PATH, 'datasets')\n",
    "MODEL_BASE_PATH = os.path.join(BASE_PATH, 'models')"
   ]
  },
  {
   "cell_type": "code",
   "execution_count": 3,
   "metadata": {},
   "outputs": [],
   "source": [
    "def compute_sage(model, X, y, background):\n",
    "    \"\"\"Compute SAGE\"\"\"\n",
    "    # Set up an imputer to handle missing features\n",
    "    random_state = np.random.RandomState(42)\n",
    "    random_inds = np.random.choice(len(background), size=100, replace=False)\n",
    "    try:\n",
    "        X_rand = background.values[random_inds,:]\n",
    "    except:\n",
    "        X_rand = background[random_inds,:]\n",
    "    \n",
    "    # Set up the imputer. \n",
    "    imputer = sage.MarginalImputer(model.predict_proba, X_rand)\n",
    "\n",
    "    # Set up an estimator. \n",
    "    estimator = sage.PermutationEstimator(imputer, 'cross entropy')\n",
    "\n",
    "    print(np.shape(X))\n",
    "    \n",
    "    sage_values = estimator(X, y)\n",
    "    \n",
    "    return sage_values"
   ]
  },
  {
   "cell_type": "code",
   "execution_count": 4,
   "metadata": {},
   "outputs": [],
   "source": [
    "def subsampler(X,y, size=100000):\n",
    "    random_state = np.random.RandomState(42)\n",
    "    inds = random_state.choice(len(X), size=size, replace=False)\n",
    "    \n",
    "    X_sub = X.iloc[inds]\n",
    "    y_sub = y[inds]\n",
    "    \n",
    "    X_sub.reset_index(drop=True, inplace=True)\n",
    "    \n",
    "    return X_sub, y_sub"
   ]
  },
  {
   "cell_type": "code",
   "execution_count": 5,
   "metadata": {},
   "outputs": [],
   "source": [
    "time='first_hour'\n",
    "targets = ['tornado', 'severe_hail', 'severe_wind', 'road_surface']\n",
    "opts = ['original', 'reduced']\n",
    "\n",
    "def worker(target, opt): \n",
    "    \n",
    "    emailer = Emailer()\n",
    "    start_time = emailer.get_start_time()\n",
    "    \n",
    "    out_file = os.path.join(DATA_BASE_PATH, f'sage_results_{opt}_{target}.nc')\n",
    "    #if os.path.exists(out_file):\n",
    "    #    print(f'{out_file} already exists...')\n",
    "    #    return None\n",
    "                            \n",
    "    print(f'Running {target} {opt}...')\n",
    "    if target=='road_surface':\n",
    "        train_df = pd.read_csv('/work/mflora/ROAD_SURFACE/probsr_training_data.csv')\n",
    "        if opt == 'original':\n",
    "                calibrator =  load(os.path.join(MODEL_BASE_PATH, 'JTTI_ProbSR_RandomForest_Isotonic.pkl'))\n",
    "                rf_orig = load(os.path.join(MODEL_BASE_PATH,'JTTI_ProbSR_RandomForest.pkl'))\n",
    "                model = CalibratedClassifier(rf_orig, calibrator)\n",
    "                X = train_df[PREDICTOR_COLUMNS].astype(float)\n",
    "                y = train_df[TARGET_COLUMN].astype(float).values\n",
    "        else:\n",
    "                # Load Model\n",
    "                model_name = os.path.join(MODEL_BASE_PATH, f'RandomForest_manualfeatures_12.joblib')\n",
    "                data = load(model_name)\n",
    "                model = data['model']\n",
    "                X = train_df[data['features']].astype(float)\n",
    "                y = train_df[TARGET_COLUMN].astype(float).values\n",
    "\n",
    "    else:\n",
    "        opt_tag = '' if opt == 'original' else 'L1_based_feature_selection_with_manual'\n",
    "        df = pd.read_pickle(os.path.join(DATA_BASE_PATH, f'{time}_training_matched_to_{target}_0km_dataset'))\n",
    "    \n",
    "        # Load Model\n",
    "        model_name = os.path.join(MODEL_BASE_PATH,\n",
    "                                  f'LogisticRegression_first_hour_{target}_under_standard_{opt_tag}.pkl')\n",
    "        \n",
    "        data = load(model_name)\n",
    "        model = data['model']\n",
    "        X = df[data['features']].astype(float)\n",
    "        y = df[f'matched_to_{target}_0km'].astype(float).values\n",
    "    \n",
    "    # Calculate SAGE values\n",
    "    X_sub, y_sub = subsampler(X,y)\n",
    "    sage_values = compute_sage(model, X_sub.values, y_sub, X)\n",
    "    \n",
    "    with open(out_file, 'wb') as f:\n",
    "        pickle.dump(sage_values, f)\n",
    "        \n",
    "    emailer.send_email(f'SAGE for {target} {opt} is done', \n",
    "            start_time\n",
    "           )"
   ]
  },
  {
   "cell_type": "code",
   "execution_count": 6,
   "metadata": {},
   "outputs": [],
   "source": [
    "#worker('road_surface', 'reduced')"
   ]
  },
  {
   "cell_type": "code",
   "execution_count": 7,
   "metadata": {},
   "outputs": [
    {
     "name": "stderr",
     "output_type": "stream",
     "text": [
      "\r",
      "SAGE Compute:   0%|                                                                                                                 | 0/8 [00:00<?, ?it/s]"
     ]
    },
    {
     "name": "stdout",
     "output_type": "stream",
     "text": [
      "Running tornado original...Running tornado reduced...Running severe_hail original...Running severe_hail reduced...Running severe_wind reduced...Running severe_wind original...Running road_surface reduced...Running road_surface original...\n",
      "\n",
      "\n",
      "\n",
      "\n",
      "\n",
      "\n",
      "\n"
     ]
    },
    {
     "name": "stderr",
     "output_type": "stream",
     "text": [
      "Intel(R) Extension for Scikit-learn* enabled (https://github.com/intel/scikit-learn-intelex)\n",
      "Intel(R) Extension for Scikit-learn* enabled (https://github.com/intel/scikit-learn-intelex)\n",
      "Intel(R) Extension for Scikit-learn* enabled (https://github.com/intel/scikit-learn-intelex)\n",
      "Intel(R) Extension for Scikit-learn* enabled (https://github.com/intel/scikit-learn-intelex)\n"
     ]
    },
    {
     "name": "stdout",
     "output_type": "stream",
     "text": [
      "(100000, 30)\n"
     ]
    },
    {
     "name": "stderr",
     "output_type": "stream",
     "text": [
      "Intel(R) Extension for Scikit-learn* enabled (https://github.com/intel/scikit-learn-intelex)\n",
      "Intel(R) Extension for Scikit-learn* enabled (https://github.com/intel/scikit-learn-intelex)\n"
     ]
    },
    {
     "name": "stdout",
     "output_type": "stream",
     "text": [
      "(100000, 14)\n"
     ]
    },
    {
     "data": {
      "application/vnd.jupyter.widget-view+json": {
       "model_id": "2d45cb0a8f9e44d69118f9a1e96ec95b",
       "version_major": 2,
       "version_minor": 0
      },
      "text/plain": [
       "  0%|          | 0/1 [00:00<?, ?it/s]"
      ]
     },
     "metadata": {},
     "output_type": "display_data"
    },
    {
     "data": {
      "application/vnd.jupyter.widget-view+json": {
       "model_id": "d02c2fe271bd4253af500615579a587b",
       "version_major": 2,
       "version_minor": 0
      },
      "text/plain": [
       "  0%|          | 0/1 [00:00<?, ?it/s]"
      ]
     },
     "metadata": {},
     "output_type": "display_data"
    },
    {
     "name": "stderr",
     "output_type": "stream",
     "text": [
      "Intel(R) Extension for Scikit-learn* enabled (https://github.com/intel/scikit-learn-intelex)\n"
     ]
    },
    {
     "name": "stdout",
     "output_type": "stream",
     "text": [
      "(100000, 32)\n"
     ]
    },
    {
     "data": {
      "application/vnd.jupyter.widget-view+json": {
       "model_id": "72f4fd493fdd4292a4612e84c42ed783",
       "version_major": 2,
       "version_minor": 0
      },
      "text/plain": [
       "  0%|          | 0/1 [00:00<?, ?it/s]"
      ]
     },
     "metadata": {},
     "output_type": "display_data"
    },
    {
     "name": "stdout",
     "output_type": "stream",
     "text": [
      "(100000, 25)\n"
     ]
    },
    {
     "data": {
      "application/vnd.jupyter.widget-view+json": {
       "model_id": "f69daa121f734e33aed14c4d06778cfc",
       "version_major": 2,
       "version_minor": 0
      },
      "text/plain": [
       "  0%|          | 0/1 [00:00<?, ?it/s]"
      ]
     },
     "metadata": {},
     "output_type": "display_data"
    },
    {
     "name": "stdout",
     "output_type": "stream",
     "text": [
      "(100000, 11)\n"
     ]
    },
    {
     "data": {
      "application/vnd.jupyter.widget-view+json": {
       "model_id": "d72471fe064249a19fab0341d46e6505",
       "version_major": 2,
       "version_minor": 0
      },
      "text/plain": [
       "  0%|          | 0/1 [00:00<?, ?it/s]"
      ]
     },
     "metadata": {},
     "output_type": "display_data"
    },
    {
     "name": "stdout",
     "output_type": "stream",
     "text": [
      "(100000, 113)\n"
     ]
    },
    {
     "data": {
      "application/vnd.jupyter.widget-view+json": {
       "model_id": "055ab421bac2422983066308bf5d3750",
       "version_major": 2,
       "version_minor": 0
      },
      "text/plain": [
       "  0%|          | 0/1 [00:00<?, ?it/s]"
      ]
     },
     "metadata": {},
     "output_type": "display_data"
    },
    {
     "name": "stdout",
     "output_type": "stream",
     "text": [
      "(100000, 113)\n"
     ]
    },
    {
     "data": {
      "application/vnd.jupyter.widget-view+json": {
       "model_id": "e6c277aaa11944898a2c42e27feb700e",
       "version_major": 2,
       "version_minor": 0
      },
      "text/plain": [
       "  0%|          | 0/1 [00:00<?, ?it/s]"
      ]
     },
     "metadata": {},
     "output_type": "display_data"
    },
    {
     "name": "stdout",
     "output_type": "stream",
     "text": [
      "(100000, 113)\n"
     ]
    },
    {
     "data": {
      "application/vnd.jupyter.widget-view+json": {
       "model_id": "fbf6ab33b52a48908aff50ea20370627",
       "version_major": 2,
       "version_minor": 0
      },
      "text/plain": [
       "  0%|          | 0/1 [00:00<?, ?it/s]"
      ]
     },
     "metadata": {},
     "output_type": "display_data"
    },
    {
     "name": "stderr",
     "output_type": "stream",
     "text": [
      "SAGE Compute: 100%|██████████████████████████████████████████████████████████████████████████████████████████████████████| 8/8 [1:47:29<00:00, 806.17s/it]\n"
     ]
    },
    {
     "data": {
      "text/plain": [
       "[None, None, None, None, None, None, None, None]"
      ]
     },
     "execution_count": 7,
     "metadata": {},
     "output_type": "execute_result"
    }
   ],
   "source": [
    "run_parallel(worker, args_iterator=to_iterator(targets, opts), nprocs_to_use=8, description='SAGE Compute')"
   ]
  }
 ],
 "metadata": {
  "kernelspec": {
   "display_name": "Python 3 (ipykernel)",
   "language": "python",
   "name": "python3"
  },
  "language_info": {
   "codemirror_mode": {
    "name": "ipython",
    "version": 3
   },
   "file_extension": ".py",
   "mimetype": "text/x-python",
   "name": "python",
   "nbconvert_exporter": "python",
   "pygments_lexer": "ipython3",
   "version": "3.8.13"
  }
 },
 "nbformat": 4,
 "nbformat_minor": 4
}
