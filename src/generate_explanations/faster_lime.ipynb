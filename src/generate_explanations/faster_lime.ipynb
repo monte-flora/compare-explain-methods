{
 "cells": [
  {
   "cell_type": "code",
   "execution_count": 1,
   "id": "79d59b51",
   "metadata": {},
   "outputs": [],
   "source": [
    "import sys\n",
    "sys.path.append('/home/monte.flora/python_packages/Faster-LIME')\n",
    "#from faster_lime.explainers.numpy_tabular_explainer import NumpyTabularExplainer\n",
    "#from faster_lime.explainers.numpy_robust_tabular_explainer import NumpyRobustTabularExplainer\n",
    "\n",
    "from lime.lime_tabular import LimeTabularExplainer \n",
    "\n",
    "import sys, os \n",
    "from os.path import dirname\n",
    "path = dirname(dirname(os.getcwd()))\n",
    "sys.path.insert(0, path)\n",
    "sys.path.insert(0, '/home/monte.flora/python_packages/scikit-explain')\n",
    "\n",
    "import skexplain \n",
    "from skexplain.common.importance_utils import to_skexplain_importance\n",
    "from skexplain.common.multiprocessing_utils import run_parallel, to_iterator\n",
    "from src.io.io import load_data_and_model\n",
    "from src.common.util import subsampler, normalize_importance, compute_sage\n",
    "import pandas as pd\n",
    "from skexplain.main.lime_fast import FastLimeTabularExplainer"
   ]
  },
  {
   "cell_type": "code",
   "execution_count": 2,
   "id": "8a8224cc",
   "metadata": {},
   "outputs": [],
   "source": [
    "sys.path.append('/home/monte.flora/python_packages/scikit-explain')\n",
    "import skexplain\n",
    "### Loading the training data and pre-fit models \n",
    "estimators = skexplain.load_models()\n",
    "X,y = skexplain.load_data()"
   ]
  },
  {
   "cell_type": "code",
   "execution_count": 3,
   "id": "3e9a0901",
   "metadata": {},
   "outputs": [],
   "source": [
    "features=list(X.columns)"
   ]
  },
  {
   "cell_type": "code",
   "execution_count": 8,
   "id": "7e6fcb64",
   "metadata": {},
   "outputs": [
    {
     "name": "stderr",
     "output_type": "stream",
     "text": [
      "LIME:  59%|███████████████████████████████████████████████████████████▋                                         | 5907/10000 [06:04<04:12, 16.21it/s]\n"
     ]
    },
    {
     "ename": "KeyboardInterrupt",
     "evalue": "",
     "output_type": "error",
     "traceback": [
      "\u001b[0;31m---------------------------------------------------------------------------\u001b[0m",
      "\u001b[0;31mKeyboardInterrupt\u001b[0m                         Traceback (most recent call last)",
      "File \u001b[0;32m<timed exec>:4\u001b[0m, in \u001b[0;36m<module>\u001b[0;34m\u001b[0m\n",
      "File \u001b[0;32m~/python_packages/scikit-explain/skexplain/main/explain_toolkit.py:1799\u001b[0m, in \u001b[0;36mExplainToolkit.local_attributions\u001b[0;34m(self, method, shap_kws, lime_kws, n_jobs)\u001b[0m\n\u001b[1;32m   1796\u001b[0m \u001b[38;5;28;01mfor\u001b[39;00m estimator_name, estimator \u001b[38;5;129;01min\u001b[39;00m \u001b[38;5;28mself\u001b[39m\u001b[38;5;241m.\u001b[39mestimators\u001b[38;5;241m.\u001b[39mitems():\n\u001b[1;32m   1797\u001b[0m     \u001b[38;5;28;01mfor\u001b[39;00m method \u001b[38;5;129;01min\u001b[39;00m methods: \n\u001b[0;32m-> 1799\u001b[0m         df \u001b[38;5;241m=\u001b[39m \u001b[38;5;28;43mself\u001b[39;49m\u001b[38;5;241;43m.\u001b[39;49m\u001b[43mlocal_obj\u001b[49m\u001b[38;5;241;43m.\u001b[39;49m\u001b[43m_get_feature_contributions\u001b[49m\u001b[43m(\u001b[49m\n\u001b[1;32m   1800\u001b[0m \u001b[43m            \u001b[49m\u001b[43mestimator\u001b[49m\u001b[38;5;241;43m=\u001b[39;49m\u001b[43mestimator\u001b[49m\u001b[43m,\u001b[49m\n\u001b[1;32m   1801\u001b[0m \u001b[43m            \u001b[49m\u001b[43mX\u001b[49m\u001b[38;5;241;43m=\u001b[39;49m\u001b[38;5;28;43mself\u001b[39;49m\u001b[38;5;241;43m.\u001b[39;49m\u001b[43mX\u001b[49m\u001b[43m,\u001b[49m\n\u001b[1;32m   1802\u001b[0m \u001b[43m            \u001b[49m\u001b[43mshap_kws\u001b[49m\u001b[38;5;241;43m=\u001b[39;49m\u001b[43mshap_kws\u001b[49m\u001b[43m,\u001b[49m\n\u001b[1;32m   1803\u001b[0m \u001b[43m            \u001b[49m\u001b[43mlime_kws\u001b[49m\u001b[38;5;241;43m=\u001b[39;49m\u001b[43mlime_kws\u001b[49m\u001b[43m,\u001b[49m\u001b[43m \u001b[49m\n\u001b[1;32m   1804\u001b[0m \u001b[43m            \u001b[49m\u001b[43mn_jobs\u001b[49m\u001b[38;5;241;43m=\u001b[39;49m\u001b[43mn_jobs\u001b[49m\u001b[43m,\u001b[49m\u001b[43m \u001b[49m\n\u001b[1;32m   1805\u001b[0m \u001b[43m            \u001b[49m\u001b[43mmethod\u001b[49m\u001b[43m \u001b[49m\u001b[38;5;241;43m=\u001b[39;49m\u001b[43m \u001b[49m\u001b[43mmethod\u001b[49m\u001b[43m,\u001b[49m\u001b[43m \u001b[49m\n\u001b[1;32m   1806\u001b[0m \u001b[43m            \u001b[49m\u001b[43mestimator_output\u001b[49m\u001b[38;5;241;43m=\u001b[39;49m\u001b[38;5;28;43mself\u001b[39;49m\u001b[38;5;241;43m.\u001b[39;49m\u001b[43mestimator_output\u001b[49m\n\u001b[1;32m   1807\u001b[0m \u001b[43m        \u001b[49m\u001b[43m)\u001b[49m\n\u001b[1;32m   1809\u001b[0m         values \u001b[38;5;241m=\u001b[39m df[\u001b[38;5;28mself\u001b[39m\u001b[38;5;241m.\u001b[39mfeature_names]\n\u001b[1;32m   1810\u001b[0m         bias \u001b[38;5;241m=\u001b[39m df[\u001b[38;5;124m'\u001b[39m\u001b[38;5;124mBias\u001b[39m\u001b[38;5;124m'\u001b[39m] \n",
      "File \u001b[0;32m~/python_packages/scikit-explain/skexplain/main/local_explainer.py:424\u001b[0m, in \u001b[0;36mLocalExplainer._get_feature_contributions\u001b[0;34m(self, estimator, X, n_jobs, shap_kws, lime_kws, method, estimator_output)\u001b[0m\n\u001b[1;32m    422\u001b[0m     contributions, bias \u001b[38;5;241m=\u001b[39m \u001b[38;5;28mself\u001b[39m\u001b[38;5;241m.\u001b[39m_get_ti_values(estimator, X)\n\u001b[1;32m    423\u001b[0m \u001b[38;5;28;01melif\u001b[39;00m \u001b[38;5;28mself\u001b[39m\u001b[38;5;241m.\u001b[39mmethod \u001b[38;5;241m==\u001b[39m \u001b[38;5;124m'\u001b[39m\u001b[38;5;124mlime\u001b[39m\u001b[38;5;124m'\u001b[39m:\n\u001b[0;32m--> 424\u001b[0m     contributions, bias \u001b[38;5;241m=\u001b[39m \u001b[38;5;28;43mself\u001b[39;49m\u001b[38;5;241;43m.\u001b[39;49m\u001b[43m_get_lime_values\u001b[49m\u001b[43m(\u001b[49m\u001b[43mestimator\u001b[49m\u001b[43m,\u001b[49m\u001b[43m \u001b[49m\u001b[43mX\u001b[49m\u001b[43m,\u001b[49m\u001b[43m \u001b[49m\u001b[43mlime_kws\u001b[49m\u001b[43m)\u001b[49m\n\u001b[1;32m    426\u001b[0m n_samples \u001b[38;5;241m=\u001b[39m \u001b[38;5;28mlen\u001b[39m(X)\n\u001b[1;32m    427\u001b[0m columns \u001b[38;5;241m=\u001b[39m \u001b[38;5;28mself\u001b[39m\u001b[38;5;241m.\u001b[39mfeature_names \u001b[38;5;241m+\u001b[39m [\u001b[38;5;124m\"\u001b[39m\u001b[38;5;124mBias\u001b[39m\u001b[38;5;124m\"\u001b[39m]\n",
      "File \u001b[0;32m~/python_packages/scikit-explain/skexplain/main/local_explainer.py:392\u001b[0m, in \u001b[0;36mLocalExplainer._get_lime_values\u001b[0;34m(self, estimator, X, lime_kws)\u001b[0m\n\u001b[1;32m    390\u001b[0m \u001b[38;5;28;01melse\u001b[39;00m:\n\u001b[1;32m    391\u001b[0m     \u001b[38;5;28;01mfor\u001b[39;00m i \u001b[38;5;129;01min\u001b[39;00m tqdm(\u001b[38;5;28mrange\u001b[39m(n_examples), desc\u001b[38;5;241m=\u001b[39m\u001b[38;5;124m'\u001b[39m\u001b[38;5;124mLIME\u001b[39m\u001b[38;5;124m'\u001b[39m):\n\u001b[0;32m--> 392\u001b[0m         contrib, b \u001b[38;5;241m=\u001b[39m \u001b[38;5;28;43mself\u001b[39;49m\u001b[38;5;241;43m.\u001b[39;49m\u001b[43m_explain_lime\u001b[49m\u001b[43m(\u001b[49m\u001b[43mexplainer\u001b[49m\u001b[43m,\u001b[49m\u001b[43m \u001b[49m\u001b[43mpredict_fn\u001b[49m\u001b[43m,\u001b[49m\u001b[43m \u001b[49m\u001b[43mX\u001b[49m\u001b[38;5;241;43m.\u001b[39;49m\u001b[43mvalues\u001b[49m\u001b[43m[\u001b[49m\u001b[43mi\u001b[49m\u001b[43m,\u001b[49m\u001b[43m:\u001b[49m\u001b[43m]\u001b[49m\u001b[43m,\u001b[49m\u001b[43m \u001b[49m\u001b[43mlabel\u001b[49m\u001b[43m)\u001b[49m\n\u001b[1;32m    393\u001b[0m         contributions[i,:] \u001b[38;5;241m=\u001b[39m contrib\n\u001b[1;32m    394\u001b[0m         bias[i] \u001b[38;5;241m=\u001b[39m b\n",
      "File \u001b[0;32m~/python_packages/scikit-explain/skexplain/main/local_explainer.py:318\u001b[0m, in \u001b[0;36mLocalExplainer._explain_lime\u001b[0;34m(self, explainer, predict_fn, X, label)\u001b[0m\n\u001b[1;32m    315\u001b[0m \u001b[38;5;124;03m\"\"\"Get explanation from LIME\"\"\"\u001b[39;00m\n\u001b[1;32m    317\u001b[0m num_features \u001b[38;5;241m=\u001b[39m \u001b[38;5;28mlen\u001b[39m(X)\n\u001b[0;32m--> 318\u001b[0m explanation \u001b[38;5;241m=\u001b[39m \u001b[43mexplainer\u001b[49m\u001b[38;5;241;43m.\u001b[39;49m\u001b[43mexplain_instance\u001b[49m\u001b[43m(\u001b[49m\u001b[43mX\u001b[49m\u001b[43m,\u001b[49m\u001b[43m \u001b[49m\u001b[43mpredict_fn\u001b[49m\u001b[43m,\u001b[49m\u001b[43m \u001b[49m\u001b[43mlabel\u001b[49m\u001b[38;5;241;43m=\u001b[39;49m\u001b[43mlabel\u001b[49m\u001b[43m,\u001b[49m\u001b[43m \u001b[49m\n\u001b[1;32m    319\u001b[0m \u001b[43m                                         \u001b[49m\u001b[43mnum_features\u001b[49m\u001b[38;5;241;43m=\u001b[39;49m\u001b[43mnum_features\u001b[49m\u001b[43m,\u001b[49m\u001b[43m \u001b[49m\u001b[43mnum_samples\u001b[49m\u001b[38;5;241;43m=\u001b[39;49m\u001b[38;5;241;43m2500\u001b[39;49m\u001b[43m)\u001b[49m\n\u001b[1;32m    321\u001b[0m \u001b[38;5;28;01mif\u001b[39;00m \u001b[38;5;28misinstance\u001b[39m(explainer, LimeTabularExplainer):\n\u001b[1;32m    322\u001b[0m     sorted_exp \u001b[38;5;241m=\u001b[39m \u001b[38;5;28msorted\u001b[39m(explanation\u001b[38;5;241m.\u001b[39mlocal_exp[\u001b[38;5;241m1\u001b[39m], key\u001b[38;5;241m=\u001b[39m\u001b[38;5;28;01mlambda\u001b[39;00m x: x[\u001b[38;5;241m0\u001b[39m])\n",
      "File \u001b[0;32m~/python_packages/scikit-explain/skexplain/main/lime_fast.py:178\u001b[0m, in \u001b[0;36mFastLimeTabularExplainer.explain_instance\u001b[0;34m(self, data_row, predict_fn, label, num_samples, num_features, kernel_width, **kwargs)\u001b[0m\n\u001b[1;32m    176\u001b[0m \u001b[38;5;66;03m# Solve\u001b[39;00m\n\u001b[1;32m    177\u001b[0m tup \u001b[38;5;241m=\u001b[39m (data_synthetic_onehot, model_pred[:, label], weights)\n\u001b[0;32m--> 178\u001b[0m importances, bias \u001b[38;5;241m=\u001b[39m \u001b[43mridge_solve\u001b[49m\u001b[43m(\u001b[49m\u001b[43mtup\u001b[49m\u001b[43m)\u001b[49m\n\u001b[1;32m    179\u001b[0m \u001b[38;5;66;03m#print(importances.shape, bias.shape)\u001b[39;00m\n\u001b[1;32m    180\u001b[0m \n\u001b[1;32m    181\u001b[0m \u001b[38;5;66;03m#explanations = sorted(list(zip(self.feature_names, importances)),\u001b[39;00m\n\u001b[1;32m    182\u001b[0m \u001b[38;5;66;03m#                      key=lambda x: x[1], reverse=True)[:num_features]\u001b[39;00m\n\u001b[1;32m    184\u001b[0m \u001b[38;5;28;01mreturn\u001b[39;00m importances, bias\n",
      "File \u001b[0;32m~/python_packages/scikit-explain/skexplain/common/utils.py:510\u001b[0m, in \u001b[0;36mridge_solve\u001b[0;34m(tup)\u001b[0m\n\u001b[1;32m    508\u001b[0m data_synthetic_onehot, model_pred, weights \u001b[38;5;241m=\u001b[39m tup\n\u001b[1;32m    509\u001b[0m solver \u001b[38;5;241m=\u001b[39m Ridge(alpha\u001b[38;5;241m=\u001b[39m\u001b[38;5;241m1\u001b[39m, fit_intercept\u001b[38;5;241m=\u001b[39m\u001b[38;5;28;01mTrue\u001b[39;00m)\n\u001b[0;32m--> 510\u001b[0m \u001b[43msolver\u001b[49m\u001b[38;5;241;43m.\u001b[39;49m\u001b[43mfit\u001b[49m\u001b[43m(\u001b[49m\u001b[43mdata_synthetic_onehot\u001b[49m\u001b[43m,\u001b[49m\n\u001b[1;32m    511\u001b[0m \u001b[43m           \u001b[49m\u001b[43mmodel_pred\u001b[49m\u001b[43m,\u001b[49m\n\u001b[1;32m    512\u001b[0m \u001b[43m           \u001b[49m\u001b[43msample_weight\u001b[49m\u001b[38;5;241;43m=\u001b[39;49m\u001b[43mweights\u001b[49m\u001b[38;5;241;43m.\u001b[39;49m\u001b[43mravel\u001b[49m\u001b[43m(\u001b[49m\u001b[43m)\u001b[49m\u001b[43m)\u001b[49m\n\u001b[1;32m    513\u001b[0m \u001b[38;5;66;03m# Get explanations\u001b[39;00m\n\u001b[1;32m    514\u001b[0m importance \u001b[38;5;241m=\u001b[39m solver\u001b[38;5;241m.\u001b[39mcoef_[\n\u001b[1;32m    515\u001b[0m     data_synthetic_onehot[\u001b[38;5;241m0\u001b[39m]\u001b[38;5;241m.\u001b[39mtoarray()\u001b[38;5;241m.\u001b[39mravel() \u001b[38;5;241m==\u001b[39m \u001b[38;5;241m1\u001b[39m]\u001b[38;5;241m.\u001b[39mravel()\n",
      "File \u001b[0;32m~/miniconda3/envs/ai2es/lib/python3.8/site-packages/sklearn/linear_model/_ridge.py:1011\u001b[0m, in \u001b[0;36mRidge.fit\u001b[0;34m(self, X, y, sample_weight)\u001b[0m\n\u001b[1;32m    991\u001b[0m \u001b[38;5;28;01mdef\u001b[39;00m \u001b[38;5;21mfit\u001b[39m(\u001b[38;5;28mself\u001b[39m, X, y, sample_weight\u001b[38;5;241m=\u001b[39m\u001b[38;5;28;01mNone\u001b[39;00m):\n\u001b[1;32m    992\u001b[0m     \u001b[38;5;124;03m\"\"\"Fit Ridge regression model.\u001b[39;00m\n\u001b[1;32m    993\u001b[0m \n\u001b[1;32m    994\u001b[0m \u001b[38;5;124;03m    Parameters\u001b[39;00m\n\u001b[0;32m   (...)\u001b[0m\n\u001b[1;32m   1009\u001b[0m \u001b[38;5;124;03m        Fitted estimator.\u001b[39;00m\n\u001b[1;32m   1010\u001b[0m \u001b[38;5;124;03m    \"\"\"\u001b[39;00m\n\u001b[0;32m-> 1011\u001b[0m     \u001b[38;5;28;01mreturn\u001b[39;00m \u001b[38;5;28;43msuper\u001b[39;49m\u001b[43m(\u001b[49m\u001b[43m)\u001b[49m\u001b[38;5;241;43m.\u001b[39;49m\u001b[43mfit\u001b[49m\u001b[43m(\u001b[49m\u001b[43mX\u001b[49m\u001b[43m,\u001b[49m\u001b[43m \u001b[49m\u001b[43my\u001b[49m\u001b[43m,\u001b[49m\u001b[43m \u001b[49m\u001b[43msample_weight\u001b[49m\u001b[38;5;241;43m=\u001b[39;49m\u001b[43msample_weight\u001b[49m\u001b[43m)\u001b[49m\n",
      "File \u001b[0;32m~/miniconda3/envs/ai2es/lib/python3.8/site-packages/sklearn/linear_model/_ridge.py:755\u001b[0m, in \u001b[0;36m_BaseRidge.fit\u001b[0;34m(self, X, y, sample_weight)\u001b[0m\n\u001b[1;32m    752\u001b[0m     sample_weight \u001b[38;5;241m=\u001b[39m _check_sample_weight(sample_weight, X, dtype\u001b[38;5;241m=\u001b[39mX\u001b[38;5;241m.\u001b[39mdtype)\n\u001b[1;32m    754\u001b[0m \u001b[38;5;66;03m# when X is sparse we only remove offset from y\u001b[39;00m\n\u001b[0;32m--> 755\u001b[0m X, y, X_offset, y_offset, X_scale \u001b[38;5;241m=\u001b[39m \u001b[38;5;28;43mself\u001b[39;49m\u001b[38;5;241;43m.\u001b[39;49m\u001b[43m_preprocess_data\u001b[49m\u001b[43m(\u001b[49m\n\u001b[1;32m    756\u001b[0m \u001b[43m    \u001b[49m\u001b[43mX\u001b[49m\u001b[43m,\u001b[49m\n\u001b[1;32m    757\u001b[0m \u001b[43m    \u001b[49m\u001b[43my\u001b[49m\u001b[43m,\u001b[49m\n\u001b[1;32m    758\u001b[0m \u001b[43m    \u001b[49m\u001b[38;5;28;43mself\u001b[39;49m\u001b[38;5;241;43m.\u001b[39;49m\u001b[43mfit_intercept\u001b[49m\u001b[43m,\u001b[49m\n\u001b[1;32m    759\u001b[0m \u001b[43m    \u001b[49m\u001b[38;5;28;43mself\u001b[39;49m\u001b[38;5;241;43m.\u001b[39;49m\u001b[43m_normalize\u001b[49m\u001b[43m,\u001b[49m\n\u001b[1;32m    760\u001b[0m \u001b[43m    \u001b[49m\u001b[38;5;28;43mself\u001b[39;49m\u001b[38;5;241;43m.\u001b[39;49m\u001b[43mcopy_X\u001b[49m\u001b[43m,\u001b[49m\n\u001b[1;32m    761\u001b[0m \u001b[43m    \u001b[49m\u001b[43msample_weight\u001b[49m\u001b[38;5;241;43m=\u001b[39;49m\u001b[43msample_weight\u001b[49m\u001b[43m,\u001b[49m\n\u001b[1;32m    762\u001b[0m \u001b[43m    \u001b[49m\u001b[43mreturn_mean\u001b[49m\u001b[38;5;241;43m=\u001b[39;49m\u001b[38;5;28;43;01mTrue\u001b[39;49;00m\u001b[43m,\u001b[49m\n\u001b[1;32m    763\u001b[0m \u001b[43m\u001b[49m\u001b[43m)\u001b[49m\n\u001b[1;32m    765\u001b[0m \u001b[38;5;28;01mif\u001b[39;00m solver \u001b[38;5;241m==\u001b[39m \u001b[38;5;124m\"\u001b[39m\u001b[38;5;124msag\u001b[39m\u001b[38;5;124m\"\u001b[39m \u001b[38;5;129;01mand\u001b[39;00m sparse\u001b[38;5;241m.\u001b[39missparse(X) \u001b[38;5;129;01mand\u001b[39;00m \u001b[38;5;28mself\u001b[39m\u001b[38;5;241m.\u001b[39mfit_intercept:\n\u001b[1;32m    766\u001b[0m     \u001b[38;5;28mself\u001b[39m\u001b[38;5;241m.\u001b[39mcoef_, \u001b[38;5;28mself\u001b[39m\u001b[38;5;241m.\u001b[39mn_iter_, \u001b[38;5;28mself\u001b[39m\u001b[38;5;241m.\u001b[39mintercept_ \u001b[38;5;241m=\u001b[39m _ridge_regression(\n\u001b[1;32m    767\u001b[0m         X,\n\u001b[1;32m    768\u001b[0m         y,\n\u001b[0;32m   (...)\u001b[0m\n\u001b[1;32m    778\u001b[0m         check_input\u001b[38;5;241m=\u001b[39m\u001b[38;5;28;01mFalse\u001b[39;00m,\n\u001b[1;32m    779\u001b[0m     )\n",
      "File \u001b[0;32m~/miniconda3/envs/ai2es/lib/python3.8/site-packages/sklearn/linear_model/_base.py:258\u001b[0m, in \u001b[0;36m_preprocess_data\u001b[0;34m(X, y, fit_intercept, normalize, copy, sample_weight, return_mean, check_input)\u001b[0m\n\u001b[1;32m    256\u001b[0m \u001b[38;5;28;01mif\u001b[39;00m fit_intercept:\n\u001b[1;32m    257\u001b[0m     \u001b[38;5;28;01mif\u001b[39;00m sp\u001b[38;5;241m.\u001b[39missparse(X):\n\u001b[0;32m--> 258\u001b[0m         X_offset, X_var \u001b[38;5;241m=\u001b[39m \u001b[43mmean_variance_axis\u001b[49m\u001b[43m(\u001b[49m\u001b[43mX\u001b[49m\u001b[43m,\u001b[49m\u001b[43m \u001b[49m\u001b[43maxis\u001b[49m\u001b[38;5;241;43m=\u001b[39;49m\u001b[38;5;241;43m0\u001b[39;49m\u001b[43m,\u001b[49m\u001b[43m \u001b[49m\u001b[43mweights\u001b[49m\u001b[38;5;241;43m=\u001b[39;49m\u001b[43msample_weight\u001b[49m\u001b[43m)\u001b[49m\n\u001b[1;32m    259\u001b[0m         \u001b[38;5;28;01mif\u001b[39;00m \u001b[38;5;129;01mnot\u001b[39;00m return_mean:\n\u001b[1;32m    260\u001b[0m             X_offset[:] \u001b[38;5;241m=\u001b[39m X\u001b[38;5;241m.\u001b[39mdtype\u001b[38;5;241m.\u001b[39mtype(\u001b[38;5;241m0\u001b[39m)\n",
      "File \u001b[0;32m~/miniconda3/envs/ai2es/lib/python3.8/site-packages/sklearn/utils/sparsefuncs.py:108\u001b[0m, in \u001b[0;36mmean_variance_axis\u001b[0;34m(X, axis, weights, return_sum_weights)\u001b[0m\n\u001b[1;32m    106\u001b[0m \u001b[38;5;28;01mif\u001b[39;00m \u001b[38;5;28misinstance\u001b[39m(X, sp\u001b[38;5;241m.\u001b[39mcsr_matrix):\n\u001b[1;32m    107\u001b[0m     \u001b[38;5;28;01mif\u001b[39;00m axis \u001b[38;5;241m==\u001b[39m \u001b[38;5;241m0\u001b[39m:\n\u001b[0;32m--> 108\u001b[0m         \u001b[38;5;28;01mreturn\u001b[39;00m \u001b[43m_csr_mean_var_axis0\u001b[49m\u001b[43m(\u001b[49m\n\u001b[1;32m    109\u001b[0m \u001b[43m            \u001b[49m\u001b[43mX\u001b[49m\u001b[43m,\u001b[49m\u001b[43m \u001b[49m\u001b[43mweights\u001b[49m\u001b[38;5;241;43m=\u001b[39;49m\u001b[43mweights\u001b[49m\u001b[43m,\u001b[49m\u001b[43m \u001b[49m\u001b[43mreturn_sum_weights\u001b[49m\u001b[38;5;241;43m=\u001b[39;49m\u001b[43mreturn_sum_weights\u001b[49m\n\u001b[1;32m    110\u001b[0m \u001b[43m        \u001b[49m\u001b[43m)\u001b[49m\n\u001b[1;32m    111\u001b[0m     \u001b[38;5;28;01melse\u001b[39;00m:\n\u001b[1;32m    112\u001b[0m         \u001b[38;5;28;01mreturn\u001b[39;00m _csc_mean_var_axis0(\n\u001b[1;32m    113\u001b[0m             X\u001b[38;5;241m.\u001b[39mT, weights\u001b[38;5;241m=\u001b[39mweights, return_sum_weights\u001b[38;5;241m=\u001b[39mreturn_sum_weights\n\u001b[1;32m    114\u001b[0m         )\n",
      "\u001b[0;31mKeyboardInterrupt\u001b[0m: "
     ]
    }
   ],
   "source": [
    "%%time\n",
    "lime_kws = {'training_data': X.values, 'categorical_names': ['urban', 'rural']}\n",
    "X_sub, y_sub = subsampler(X,y, 100)\n",
    "explainer = skexplain.ExplainToolkit(estimators[0], X_sub, y_sub)\n",
    "explainer.local_attributions('lime', lime_kws=lime_kws, n_jobs=1)"
   ]
  },
  {
   "cell_type": "code",
   "execution_count": 5,
   "id": "954b4d8d",
   "metadata": {},
   "outputs": [
    {
     "name": "stdout",
     "output_type": "stream",
     "text": [
      "(array([ 0.01590385, -0.01350816, -0.00556447, -0.00385753,  0.00070345,\n",
      "        0.00476732, -0.00024513, -0.00186269,  0.00279847,  0.01019066,\n",
      "       -0.01180746,  0.01529637, -0.0007805 ,  0.0172287 , -0.00490622,\n",
      "        0.00821469, -0.00525848,  0.00185144,  0.00144046,  0.00427252,\n",
      "       -0.0014761 , -0.00025344, -0.00407711, -0.01962   , -0.00189342,\n",
      "        0.00347003, -0.00085746, -0.00509191, -0.00428615, -0.0025716 ]), 0.39271621722055267)\n",
      "CPU times: user 258 ms, sys: 41.9 ms, total: 300 ms\n",
      "Wall time: 200 ms\n"
     ]
    }
   ],
   "source": [
    "%%time\n",
    "X = X.astype({'urban': int, 'rural': int})\n",
    "\n",
    "explainer = FastLimeTabularExplainer(\n",
    "        training_data=X.values,\n",
    "        feature_names=features,\n",
    "        categorical_names=['rural', 'urban']\n",
    "    )\n",
    "\n",
    "exp = explainer.explain_instance(\n",
    "        data_row=X.values[0,:],\n",
    "        predict_fn=estimators[0][1].predict_proba, \n",
    "        num_features=X.shape[1],\n",
    "        num_samples=2500, \n",
    "        label=1,\n",
    "    )\n",
    "\n",
    "print(exp)\n",
    "#data = pd.DataFrame({f : [contrib] for f, contrib in exp[0]})\n",
    "# Make sure the contributions are in the correct order. \n",
    "#data = data[features]"
   ]
  },
  {
   "cell_type": "code",
   "execution_count": 6,
   "id": "db073855",
   "metadata": {},
   "outputs": [
    {
     "ename": "NameError",
     "evalue": "name 'data' is not defined",
     "output_type": "error",
     "traceback": [
      "\u001b[0;31m---------------------------------------------------------------------------\u001b[0m",
      "\u001b[0;31mNameError\u001b[0m                                 Traceback (most recent call last)",
      "Input \u001b[0;32mIn [6]\u001b[0m, in \u001b[0;36m<cell line: 1>\u001b[0;34m()\u001b[0m\n\u001b[0;32m----> 1\u001b[0m \u001b[43mdata\u001b[49m\n",
      "\u001b[0;31mNameError\u001b[0m: name 'data' is not defined"
     ]
    }
   ],
   "source": [
    "data"
   ]
  },
  {
   "cell_type": "code",
   "execution_count": null,
   "id": "af640a3f",
   "metadata": {},
   "outputs": [],
   "source": [
    "%%time\n",
    "\n",
    "lime_kws = {\"training_data\" : X.values, \"mode\" : \"classification\", \"categorical_features\" : ['urban', 'rural']}\n",
    "\n",
    "explainer = LimeTabularExplainer(**lime_kws)\n",
    "exp = explainer.explain_instance(\n",
    "        data_row=X.values[0,:],\n",
    "        predict_fn=estimators[0][1].predict_proba, \n",
    "        num_features= X.shape[1],\n",
    "        num_samples=2500,\n",
    "    )\n",
    "\n",
    "print(exp)"
   ]
  },
  {
   "cell_type": "code",
   "execution_count": null,
   "id": "86e0f833",
   "metadata": {},
   "outputs": [],
   "source": [
    "isinstance(explainer, LimeTabularExplainer)"
   ]
  },
  {
   "cell_type": "code",
   "execution_count": null,
   "id": "794ea61b",
   "metadata": {},
   "outputs": [],
   "source": [
    "# 10 features = 6.8 s\n",
    "# 30 features "
   ]
  }
 ],
 "metadata": {
  "kernelspec": {
   "display_name": "Python 3 (ipykernel)",
   "language": "python",
   "name": "python3"
  },
  "language_info": {
   "codemirror_mode": {
    "name": "ipython",
    "version": 3
   },
   "file_extension": ".py",
   "mimetype": "text/x-python",
   "name": "python",
   "nbconvert_exporter": "python",
   "pygments_lexer": "ipython3",
   "version": "3.8.13"
  }
 },
 "nbformat": 4,
 "nbformat_minor": 5
}
