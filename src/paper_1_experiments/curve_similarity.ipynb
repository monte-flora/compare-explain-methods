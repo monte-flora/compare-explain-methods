{
 "cells": [
  {
   "cell_type": "code",
   "execution_count": 1,
   "id": "94a0836a",
   "metadata": {},
   "outputs": [],
   "source": [
    "import sys\n",
    "sys.path.append('/home/monte.flora/python_packages/scikit-explain/')\n",
    "sys.path.append('/home/monte.flora/python_packages/scikit-explain/tutorial_notebooks')\n",
    "sys.path.append('/home/monte.flora/python_packages/master/ml_workflow')\n",
    "sys.path.append('/work/mflora/ROAD_SURFACE')\n",
    "import skexplain\n",
    "import shap\n",
    "import plotting_config\n",
    "from skexplain.plot.base_plotting import PlotStructure\n",
    "from skexplain.common.contrib_utils import get_indices_based_on_performance\n",
    "import numpy as np\n",
    "from bayeshist import bayesian_histogram\n",
    "import matplotlib.pyplot as plt\n",
    "\n",
    "from load_models_and_data import load_model_and_data\n",
    "from probsr_config import FIGURE_MAPPINGS, UNITS\n",
    "from display_names import to_readable_names, get_units\n",
    "from load_explain_data import load_explain\n",
    "#import similaritymeasures\n",
    "from scipy.interpolate import interp1d\n",
    "from top_features import top_features"
   ]
  },
  {
   "cell_type": "code",
   "execution_count": 2,
   "id": "cfc19463",
   "metadata": {},
   "outputs": [],
   "source": [
    "def shap_to_curve(feature, shap_vals, X, bins):\n",
    "    \"\"\"Convert SHAP dots to a mean curve\"\"\"\n",
    "    vals = shap_vals[feature]\n",
    "    feature_vals = X[feature]\n",
    "    \n",
    "    inds = np.digitize(feature_vals, bins=bins) - 1\n",
    "    mean_shap_vals = np.array([np.mean(vals.values[inds==i]) for i in np.unique(inds)])\n",
    "    mean_shap_vals = 0.5*(mean_shap_vals[:-1]+mean_shap_vals[1:])\n",
    "    \n",
    "    return mean_shap_vals"
   ]
  },
  {
   "cell_type": "code",
   "execution_count": 3,
   "id": "83859c42",
   "metadata": {},
   "outputs": [],
   "source": [
    "from scipy.stats import spearmanr\n",
    "\n",
    "def normalize(d):\n",
    "    denom = (np.max(d) - np.min(d))\n",
    "    if denom < 0.0000001:\n",
    "        denom = 0.00001\n",
    "    \n",
    "    return d / denom\n",
    "\n",
    "def rmse(d1, d2):\n",
    "    return np.mean((d1-d2)**2)\n",
    "    \n",
    "\n",
    "def measure_corr(ale, shap_vals, pd, lime_vals, X_lime, ti_vals=None, X_ti=None, name=None, features=None):\n",
    "    \n",
    "    vals = {'ale' : [], 'shap' : [], 'pd' : [], 'lime' : [], 'ti':[]}\n",
    "    val_weights = []\n",
    "    \n",
    "    if features is None:\n",
    "        features = ale.attrs['features used']\n",
    "    \n",
    "    for feature in features:\n",
    "        if feature in ['rural', 'urban']:\n",
    "            continue\n",
    "    \n",
    "        ale_x = ale[f'{feature}__bin_values'].values\n",
    "        ale_y =  np.mean(ale[f'{feature}__{name}__ale'].values, axis=0)\n",
    "        \n",
    "        pd_x = pd[f'{feature}__bin_values'].values\n",
    "        pd_y = np.mean(pd[f'{feature}__{name}__pd'].values, axis=0)\n",
    "        \n",
    "        mean_shap = shap_to_curve(feature, shap_vals, X_shap, ale_x)\n",
    "        mean_lime = shap_to_curve(feature, lime_vals, X_lime, ale_x)\n",
    "        if ti_vals is not None:\n",
    "            mean_ti = shap_to_curve(feature, ti_vals, X_ti, ale_x)\n",
    "        \n",
    "        data = X[feature].values.astype(float)\n",
    "        bin_edges, beta_dist = bayesian_histogram(data, y)\n",
    "        bin_centers = 0.5*(bin_edges[:-1] + bin_edges[1:])\n",
    "        \n",
    "        base_rate = beta_dist.median()\n",
    "        ale_func = interp1d(ale_x, ale_y, fill_value=\"extrapolate\")\n",
    "        \n",
    "        try:\n",
    "            shap_func = interp1d(ale_x, mean_shap, fill_value=\"extrapolate\")\n",
    "        except:\n",
    "            shap_func = interp1d(ale_x[:-1], mean_shap, fill_value=\"extrapolate\")\n",
    "           \n",
    "        try:\n",
    "            lime_func = interp1d(ale_x, mean_lime, fill_value=\"extrapolate\")\n",
    "        except:\n",
    "            lime_func = interp1d(ale_x[:-1], mean_lime, fill_value=\"extrapolate\")\n",
    "        \n",
    "        \n",
    "        if ti_vals is not None:\n",
    "            try:\n",
    "                ti_func = interp1d(ale_x, mean_ti, fill_value=\"extrapolate\")\n",
    "            except:\n",
    "                ti_func = interp1d(ale_x[:-1], mean_ti, fill_value=\"extrapolate\")\n",
    "        \n",
    "        \n",
    "        pd_func = interp1d(pd_x, pd_y, fill_value=\"extrapolate\")\n",
    "        \n",
    "        ale_new = ale_func(bin_centers)\n",
    "        shap_new = shap_func(bin_centers)\n",
    "        pd_new = pd_func(bin_centers)\n",
    "        lime_new = lime_func(bin_centers)\n",
    "        \n",
    "        if ti_vals is not None:\n",
    "            ti_new = ti_func(bin_centers)\n",
    "        \n",
    "        \n",
    "        #if name == 'Random Forest':\n",
    "        #    fig = plt.figure(dpi=250)\n",
    "        #    for d, label in zip([ale_new, shap_new, pd_new, base_rate], \n",
    "        #             ['ALE', 'SHAP', 'PD', 'BR']\n",
    "        #            ):\n",
    "            \n",
    "        #        norm_d = d / (np.max(d) - np.min(d))\n",
    "        #        plt.plot(bin_centers, norm_d, label=label)\n",
    "            \n",
    "            #corr = np.corrcoef(d, base_rate)[0][1]\n",
    "            ##plt.scatter(base_rate, d, label=f'{label} : {corr:.3f}')\n",
    "            #plt.plot(base_rate, d)\n",
    "            #plt.xlabel('Base Rate')\n",
    "            #plt.ylabel('Feature Effect')\n",
    "        #plt.legend()\n",
    "\n",
    "        br_norm = normalize(base_rate)\n",
    "\n",
    "        vals['ale'].append(rmse(normalize(ale_new), br_norm))\n",
    "        vals['pd'].append(rmse(normalize(pd_new), br_norm))\n",
    "        vals['shap'].append(rmse(normalize(shap_new), br_norm))\n",
    "        vals['lime'].append(rmse(normalize(lime_new), br_norm))\n",
    "        if ti_vals is not None:\n",
    "            vals['ti'].append(rmse(normalize(ti_new), br_norm))\n",
    "        else:\n",
    "            vals['ti'].append(0)\n",
    "        \n",
    "        val_weights.append(np.var(base_rate))\n",
    "\n",
    "    return vals, val_weights"
   ]
  },
  {
   "cell_type": "code",
   "execution_count": 4,
   "id": "12689067",
   "metadata": {},
   "outputs": [
    {
     "name": "stdout",
     "output_type": "stream",
     "text": [
      "Loading /work/mflora/ML_DATA/MODEL_SAVES/LogisticRegression_first_hour_tornado_under_standard_.pkl...\n"
     ]
    },
    {
     "name": "stderr",
     "output_type": "stream",
     "text": [
      "Intel(R) Extension for Scikit-learn* enabled (https://github.com/intel/scikit-learn-intelex)\n"
     ]
    },
    {
     "name": "stdout",
     "output_type": "stream",
     "text": [
      "Loading data...\n",
      "LogisticRegression tornado\n",
      "Loading /work/mflora/ML_DATA/MODEL_SAVES/LogisticRegression_first_hour_severe_hail_under_standard_.pkl...\n",
      "Loading data...\n",
      "LogisticRegression severe_hail\n",
      "Loading /work/mflora/ML_DATA/MODEL_SAVES/LogisticRegression_first_hour_severe_wind_under_standard_.pkl...\n",
      "Loading data...\n",
      "LogisticRegression severe_wind\n",
      "Random Forest road_surface\n"
     ]
    },
    {
     "name": "stderr",
     "output_type": "stream",
     "text": [
      "overflow encountered in exp\n",
      "overflow encountered in exp\n",
      "overflow encountered in exp\n",
      "overflow encountered in exp\n",
      "overflow encountered in exp\n",
      "overflow encountered in exp\n",
      "overflow encountered in exp\n",
      "overflow encountered in exp\n",
      "overflow encountered in exp\n",
      "overflow encountered in exp\n",
      "overflow encountered in exp\n"
     ]
    }
   ],
   "source": [
    "keys = ['ale', 'shap', 'pd', 'lime', 'ti']\n",
    "\n",
    "data = [] \n",
    "hazards = ['tornado', 'severe_hail', 'severe_wind', 'road_surface']\n",
    "for hazard in hazards: \n",
    "    (name, _), X, y = load_model_and_data(hazard, test=False)\n",
    "    print(name, hazard)\n",
    "    ale, _, shap_vals, X_shap, pd, lime_vals, X_lime, ti_vals, X_ti = load_explain(hazard, \n",
    "                                                                                   X.columns, return_pd=True)\n",
    "    corr, weights = measure_corr(ale, shap_vals, pd, lime_vals, X_lime, ti_vals, X_ti, name, features=None)\n",
    "    row = [np.sqrt(np.average(corr[key], weights=weights)) for key in keys]\n",
    "    data.append(row)"
   ]
  },
  {
   "cell_type": "code",
   "execution_count": 5,
   "id": "68ae08a9",
   "metadata": {},
   "outputs": [],
   "source": [
    "import pandas as pd\n",
    "columns = ['ALE', 'SHAP', 'PD', 'LIME', 'TI']\n",
    "df = pd.DataFrame(data, columns=columns)"
   ]
  },
  {
   "cell_type": "code",
   "execution_count": 6,
   "id": "eaae2502",
   "metadata": {},
   "outputs": [
    {
     "data": {
      "text/html": [
       "<div>\n",
       "<style scoped>\n",
       "    .dataframe tbody tr th:only-of-type {\n",
       "        vertical-align: middle;\n",
       "    }\n",
       "\n",
       "    .dataframe tbody tr th {\n",
       "        vertical-align: top;\n",
       "    }\n",
       "\n",
       "    .dataframe thead th {\n",
       "        text-align: right;\n",
       "    }\n",
       "</style>\n",
       "<table border=\"1\" class=\"dataframe\">\n",
       "  <thead>\n",
       "    <tr style=\"text-align: right;\">\n",
       "      <th></th>\n",
       "      <th>ALE</th>\n",
       "      <th>SHAP</th>\n",
       "      <th>PD</th>\n",
       "      <th>LIME</th>\n",
       "      <th>TI</th>\n",
       "    </tr>\n",
       "  </thead>\n",
       "  <tbody>\n",
       "    <tr>\n",
       "      <th>0</th>\n",
       "      <td>0.375045</td>\n",
       "      <td>0.373112</td>\n",
       "      <td>0.558411</td>\n",
       "      <td>0.563212</td>\n",
       "      <td>0.00000</td>\n",
       "    </tr>\n",
       "    <tr>\n",
       "      <th>1</th>\n",
       "      <td>0.409911</td>\n",
       "      <td>0.412206</td>\n",
       "      <td>0.565315</td>\n",
       "      <td>0.570334</td>\n",
       "      <td>0.00000</td>\n",
       "    </tr>\n",
       "    <tr>\n",
       "      <th>2</th>\n",
       "      <td>0.493028</td>\n",
       "      <td>0.504061</td>\n",
       "      <td>0.545753</td>\n",
       "      <td>0.712811</td>\n",
       "      <td>0.00000</td>\n",
       "    </tr>\n",
       "    <tr>\n",
       "      <th>3</th>\n",
       "      <td>1.085393</td>\n",
       "      <td>0.769632</td>\n",
       "      <td>0.689004</td>\n",
       "      <td>0.746736</td>\n",
       "      <td>1.21553</td>\n",
       "    </tr>\n",
       "  </tbody>\n",
       "</table>\n",
       "</div>"
      ],
      "text/plain": [
       "        ALE      SHAP        PD      LIME       TI\n",
       "0  0.375045  0.373112  0.558411  0.563212  0.00000\n",
       "1  0.409911  0.412206  0.565315  0.570334  0.00000\n",
       "2  0.493028  0.504061  0.545753  0.712811  0.00000\n",
       "3  1.085393  0.769632  0.689004  0.746736  1.21553"
      ]
     },
     "execution_count": 6,
     "metadata": {},
     "output_type": "execute_result"
    }
   ],
   "source": [
    "df"
   ]
  },
  {
   "cell_type": "code",
   "execution_count": 7,
   "id": "4a0cbbc2",
   "metadata": {},
   "outputs": [
    {
     "data": {
      "text/plain": [
       "<matplotlib.legend.Legend at 0x152206b3c550>"
      ]
     },
     "execution_count": 7,
     "metadata": {},
     "output_type": "execute_result"
    },
    {
     "data": {
      "image/png": "[encoded data removed]",
      "text/plain": [
       "<Figure size 1800x1200 with 1 Axes>"
      ]
     },
     "metadata": {
      "needs_background": "light"
     },
     "output_type": "display_data"
    }
   ],
   "source": [
    "fig, ax = plt.subplots(dpi=300)\n",
    "hazards = ['Tornado', 'Severe Hail', 'Severe Wind', 'Road Surface']\n",
    "\n",
    "x = np.arange(len(hazards))  # the label locations\n",
    "width = 0.15  # the width of the bars\n",
    "\n",
    "pos = (x-(2*width), x-width, x, x+width, x+(2*width))\n",
    "\n",
    "ax.bar(pos[0], df['ALE'], width=width, label='ALE')\n",
    "ax.bar(pos[1] , df['SHAP'], width=width, label='SHAP')\n",
    "ax.bar(pos[2], df['PD'], width=width, label='PD')\n",
    "ax.bar(pos[3], df['LIME'], width=width, label='LIME')\n",
    "ax.bar(pos[4], df['TI'], width=width, label='TI')\n",
    "\n",
    "ax.set_ylabel('Feature-Average\\nRMSD(Feature Effects, Base Rate)', fontsize=8)\n",
    "ax.set_xticks(np.arange(len(hazards)))\n",
    "ax.set_xticklabels(hazards)\n",
    "ax.legend()"
   ]
  },
  {
   "cell_type": "code",
   "execution_count": 8,
   "id": "8ec517ab",
   "metadata": {},
   "outputs": [
    {
     "ename": "ValueError",
     "evalue": "too many values to unpack (expected 5)",
     "output_type": "error",
     "traceback": [
      "\u001b[0;31m---------------------------------------------------------------------------\u001b[0m",
      "\u001b[0;31mValueError\u001b[0m                                Traceback (most recent call last)",
      "Input \u001b[0;32mIn [8]\u001b[0m, in \u001b[0;36m<cell line: 4>\u001b[0;34m()\u001b[0m\n\u001b[1;32m      4\u001b[0m \u001b[38;5;28;01mfor\u001b[39;00m hazard \u001b[38;5;129;01min\u001b[39;00m hazards: \n\u001b[1;32m      5\u001b[0m     (name, _), X, y \u001b[38;5;241m=\u001b[39m load_model_and_data(hazard, test\u001b[38;5;241m=\u001b[39m\u001b[38;5;28;01mFalse\u001b[39;00m)\n\u001b[0;32m----> 6\u001b[0m     ale, _, shap_vals, X_shap, pd \u001b[38;5;241m=\u001b[39m load_explain(hazard, X\u001b[38;5;241m.\u001b[39mcolumns, return_pd\u001b[38;5;241m=\u001b[39m\u001b[38;5;28;01mTrue\u001b[39;00m)\n\u001b[1;32m      7\u001b[0m     corr, weights \u001b[38;5;241m=\u001b[39m measure_corr(ale, shap_vals, pd, name, features\u001b[38;5;241m=\u001b[39mtop_features[hazard])\n\u001b[1;32m      8\u001b[0m     row \u001b[38;5;241m=\u001b[39m [np\u001b[38;5;241m.\u001b[39maverage(corr[key], weights\u001b[38;5;241m=\u001b[39mweights) \u001b[38;5;28;01mfor\u001b[39;00m key \u001b[38;5;129;01min\u001b[39;00m keys]\n",
      "\u001b[0;31mValueError\u001b[0m: too many values to unpack (expected 5)"
     ]
    }
   ],
   "source": [
    "keys = ['ale', 'shap', 'pd']\n",
    "data = [] \n",
    "hazards = ['road_surface']#['tornado', 'severe_hail', 'severe_wind', 'road_surface']\n",
    "for hazard in hazards: \n",
    "    (name, _), X, y = load_model_and_data(hazard, test=False)\n",
    "    ale, _, shap_vals, X_shap, pd = load_explain(hazard, X.columns, return_pd=True)\n",
    "    corr, weights = measure_corr(ale, shap_vals, pd, name, features=top_features[hazard])\n",
    "    row = [np.average(corr[key], weights=weights) for key in keys]\n",
    "    data.append(row)"
   ]
  },
  {
   "cell_type": "code",
   "execution_count": null,
   "id": "4bd90729",
   "metadata": {},
   "outputs": [],
   "source": [
    "import pandas as pd\n",
    "columns = ['ALE', 'SHAP', 'PD']\n",
    "df = pd.DataFrame(data, columns=columns)"
   ]
  },
  {
   "cell_type": "code",
   "execution_count": null,
   "id": "1725e7dc",
   "metadata": {},
   "outputs": [],
   "source": [
    "df"
   ]
  },
  {
   "cell_type": "code",
   "execution_count": null,
   "id": "0d090eaf",
   "metadata": {},
   "outputs": [],
   "source": [
    "fig, ax = plt.subplots(dpi=300)\n",
    "hazards = ['Tornado', 'Severe Hail', 'Severe Wind', 'Road Surface']\n",
    "\n",
    "x = np.arange(len(hazards))  # the label locations\n",
    "width = 0.15  # the width of the bars\n",
    "\n",
    "ax.bar(x - width, df['ALE'], width=width, label='ALE')\n",
    "ax.bar(x , df['SHAP'], width=width, label='SHAP')\n",
    "ax.bar(x + width, df['PD'], width=width, label='PD')\n",
    "\n",
    "ax.set_ylabel('Feature-Average\\nRMSD(Feature Effects, Base Rate)', fontsize=8)\n",
    "ax.set_xticks(np.arange(len(hazards)))\n",
    "ax.set_xticklabels(hazards)\n",
    "ax.legend()"
   ]
  }
 ],
 "metadata": {
  "kernelspec": {
   "display_name": "Python 3 (ipykernel)",
   "language": "python",
   "name": "python3"
  },
  "language_info": {
   "codemirror_mode": {
    "name": "ipython",
    "version": 3
   },
   "file_extension": ".py",
   "mimetype": "text/x-python",
   "name": "python",
   "nbconvert_exporter": "python",
   "pygments_lexer": "ipython3",
   "version": "3.8.13"
  }
 },
 "nbformat": 4,
 "nbformat_minor": 5
}
